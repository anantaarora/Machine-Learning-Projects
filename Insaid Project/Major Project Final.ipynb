{
 "cells": [
  {
   "cell_type": "code",
   "execution_count": 1,
   "metadata": {},
   "outputs": [],
   "source": [
    "import pandas as pd\n",
    "import numpy as np\n",
    "import seaborn as sns\n",
    "from sklearn.model_selection import train_test_split\n",
    "# machine learning\n",
    "from sklearn.linear_model import LogisticRegression\n",
    "from sklearn.svm import SVC, LinearSVC\n",
    "from sklearn.ensemble import RandomForestClassifier\n",
    "from sklearn.neighbors import KNeighborsClassifier\n",
    "from sklearn.naive_bayes import GaussianNB\n",
    "from sklearn.linear_model import Perceptron\n",
    "from sklearn.linear_model import SGDClassifier\n",
    "from sklearn.tree import DecisionTreeClassifier"
   ]
  },
  {
   "cell_type": "code",
   "execution_count": 5,
   "metadata": {},
   "outputs": [],
   "source": [
    "import pandas as pd"
   ]
  },
  {
   "cell_type": "code",
   "execution_count": 6,
   "metadata": {},
   "outputs": [],
   "source": [
    "df = pd.read_csv('df.csv')"
   ]
  },
  {
   "cell_type": "code",
   "execution_count": 7,
   "metadata": {},
   "outputs": [
    {
     "data": {
      "text/html": [
       "<div>\n",
       "<style scoped>\n",
       "    .dataframe tbody tr th:only-of-type {\n",
       "        vertical-align: middle;\n",
       "    }\n",
       "\n",
       "    .dataframe tbody tr th {\n",
       "        vertical-align: top;\n",
       "    }\n",
       "\n",
       "    .dataframe thead th {\n",
       "        text-align: right;\n",
       "    }\n",
       "</style>\n",
       "<table border=\"1\" class=\"dataframe\">\n",
       "  <thead>\n",
       "    <tr style=\"text-align: right;\">\n",
       "      <th></th>\n",
       "      <th>Name</th>\n",
       "      <th>Mobile Number</th>\n",
       "      <th>Email Address</th>\n",
       "      <th>EngagementScore</th>\n",
       "      <th>Company</th>\n",
       "      <th>Age</th>\n",
       "      <th>MaritalStatus</th>\n",
       "      <th>gender</th>\n",
       "      <th>Exp</th>\n",
       "      <th>Interested</th>\n",
       "      <th>department</th>\n",
       "      <th>City</th>\n",
       "    </tr>\n",
       "  </thead>\n",
       "  <tbody>\n",
       "    <tr>\n",
       "      <th>0</th>\n",
       "      <td>Vijay</td>\n",
       "      <td>919959739997</td>\n",
       "      <td>sekharvij@gmail.com</td>\n",
       "      <td>89.0</td>\n",
       "      <td>Deloitte</td>\n",
       "      <td>24.0</td>\n",
       "      <td>Single</td>\n",
       "      <td>Male</td>\n",
       "      <td>4</td>\n",
       "      <td>Yes</td>\n",
       "      <td>IT</td>\n",
       "      <td>Bangalore</td>\n",
       "    </tr>\n",
       "    <tr>\n",
       "      <th>1</th>\n",
       "      <td>Ravindran Nagappan</td>\n",
       "      <td>919840107227</td>\n",
       "      <td>ravi.cti2000@gmail.com</td>\n",
       "      <td>93.0</td>\n",
       "      <td>Microsoft</td>\n",
       "      <td>30.0</td>\n",
       "      <td>Single</td>\n",
       "      <td>Male</td>\n",
       "      <td>14</td>\n",
       "      <td>No</td>\n",
       "      <td>Marketing</td>\n",
       "      <td>Tinsukia</td>\n",
       "    </tr>\n",
       "    <tr>\n",
       "      <th>2</th>\n",
       "      <td>Rohit</td>\n",
       "      <td>918408951853</td>\n",
       "      <td>rohitchouhan1119@gmail.com</td>\n",
       "      <td>89.0</td>\n",
       "      <td>CapGemini</td>\n",
       "      <td>30.0</td>\n",
       "      <td>Single</td>\n",
       "      <td>Male</td>\n",
       "      <td>11</td>\n",
       "      <td>Yes</td>\n",
       "      <td>DataBase</td>\n",
       "      <td>Coimbatore</td>\n",
       "    </tr>\n",
       "    <tr>\n",
       "      <th>3</th>\n",
       "      <td>Pramod Singh</td>\n",
       "      <td>918586886645</td>\n",
       "      <td>askpramodsingh@gmail.com</td>\n",
       "      <td>55.0</td>\n",
       "      <td>Amazon</td>\n",
       "      <td>50.0</td>\n",
       "      <td>Single</td>\n",
       "      <td>Female</td>\n",
       "      <td>15</td>\n",
       "      <td>No</td>\n",
       "      <td>HumanResources</td>\n",
       "      <td>Ghaziabad</td>\n",
       "    </tr>\n",
       "    <tr>\n",
       "      <th>4</th>\n",
       "      <td>Ajay Thakur</td>\n",
       "      <td>917666052926</td>\n",
       "      <td>ajay.thakur244@gmail.com</td>\n",
       "      <td>6.0</td>\n",
       "      <td>Gislen Software</td>\n",
       "      <td>54.0</td>\n",
       "      <td>Married</td>\n",
       "      <td>Female</td>\n",
       "      <td>1</td>\n",
       "      <td>No</td>\n",
       "      <td>Other</td>\n",
       "      <td>Indore</td>\n",
       "    </tr>\n",
       "  </tbody>\n",
       "</table>\n",
       "</div>"
      ],
      "text/plain": [
       "                 Name Mobile Number               Email Address  \\\n",
       "0               Vijay  919959739997         sekharvij@gmail.com   \n",
       "1  Ravindran Nagappan  919840107227      ravi.cti2000@gmail.com   \n",
       "2               Rohit  918408951853  rohitchouhan1119@gmail.com   \n",
       "3        Pramod Singh  918586886645    askpramodsingh@gmail.com   \n",
       "4         Ajay Thakur  917666052926    ajay.thakur244@gmail.com   \n",
       "\n",
       "   EngagementScore          Company   Age MaritalStatus  gender  Exp  \\\n",
       "0             89.0         Deloitte  24.0        Single    Male    4   \n",
       "1             93.0        Microsoft  30.0        Single    Male   14   \n",
       "2             89.0        CapGemini  30.0        Single    Male   11   \n",
       "3             55.0           Amazon  50.0        Single  Female   15   \n",
       "4              6.0  Gislen Software  54.0       Married  Female    1   \n",
       "\n",
       "  Interested      department        City  \n",
       "0        Yes              IT   Bangalore  \n",
       "1         No       Marketing    Tinsukia  \n",
       "2        Yes        DataBase  Coimbatore  \n",
       "3         No  HumanResources   Ghaziabad  \n",
       "4         No           Other      Indore  "
      ]
     },
     "execution_count": 7,
     "metadata": {},
     "output_type": "execute_result"
    }
   ],
   "source": [
    "df.head()"
   ]
  },
  {
   "cell_type": "code",
   "execution_count": 8,
   "metadata": {},
   "outputs": [
    {
     "data": {
      "text/plain": [
       "IT                          252\n",
       "DataBase                    152\n",
       "Finance                     135\n",
       "Other                       118\n",
       "Operations                  111\n",
       "Sales                       110\n",
       "HumanResources              109\n",
       "Marketing                   107\n",
       "Research and Development    102\n",
       "Name: department, dtype: int64"
      ]
     },
     "execution_count": 8,
     "metadata": {},
     "output_type": "execute_result"
    }
   ],
   "source": [
    "df.department.value_counts()"
   ]
  },
  {
   "cell_type": "code",
   "execution_count": 9,
   "metadata": {},
   "outputs": [],
   "source": [
    "df = df.rename(columns={'Name': 'name','Mobile Number':'mobile_number','Email Address': 'email_address','EngagementScore':'engagement_score','Company' : 'company','Age':'age','MaritalStatus':'marital_status','gender':'gender','Exp' :'experience','Interested':'interested','department':'department','City':'city'})"
   ]
  },
  {
   "cell_type": "code",
   "execution_count": 10,
   "metadata": {},
   "outputs": [],
   "source": [
    "import matplotlib.pyplot as plt"
   ]
  },
  {
   "cell_type": "code",
   "execution_count": 11,
   "metadata": {},
   "outputs": [
    {
     "data": {
      "image/png": "[encoded data removed]",
      "text/plain": [
       "<Figure size 432x288 with 1 Axes>"
      ]
     },
     "metadata": {
      "needs_background": "light"
     },
     "output_type": "display_data"
    }
   ],
   "source": [
    "ax = sns.countplot(df[\"interested\"], label=\"count\")"
   ]
  },
  {
   "cell_type": "code",
   "execution_count": 12,
   "metadata": {},
   "outputs": [
    {
     "data": {
      "text/plain": [
       "<matplotlib.axes._subplots.AxesSubplot at 0x15a4e158b38>"
      ]
     },
     "execution_count": 12,
     "metadata": {},
     "output_type": "execute_result"
    },
    {
     "data": {
      "image/png": "[encoded data removed]",
      "text/plain": [
       "<Figure size 432x288 with 1 Axes>"
      ]
     },
     "metadata": {
      "needs_background": "light"
     },
     "output_type": "display_data"
    }
   ],
   "source": [
    "df['engagement_score'].value_counts().head(10).plot.bar()"
   ]
  },
  {
   "cell_type": "code",
   "execution_count": 13,
   "metadata": {},
   "outputs": [
    {
     "data": {
      "text/plain": [
       "<matplotlib.axes._subplots.AxesSubplot at 0x15a4e209908>"
      ]
     },
     "execution_count": 13,
     "metadata": {},
     "output_type": "execute_result"
    },
    {
     "data": {
      "image/png": "[encoded data removed]",
      "text/plain": [
       "<Figure size 432x288 with 1 Axes>"
      ]
     },
     "metadata": {
      "needs_background": "light"
     },
     "output_type": "display_data"
    }
   ],
   "source": [
    "df['age'].value_counts().head(10).plot.bar()"
   ]
  },
  {
   "cell_type": "code",
   "execution_count": 14,
   "metadata": {},
   "outputs": [],
   "source": [
    "interested_map = {'Yes': 1, 'No': 0 }\n",
    "df['interested'] = df['interested'].map(interested_map)"
   ]
  },
  {
   "cell_type": "code",
   "execution_count": 15,
   "metadata": {},
   "outputs": [
    {
     "data": {
      "text/plain": [
       "<matplotlib.axes._subplots.AxesSubplot at 0x15a4e289e48>"
      ]
     },
     "execution_count": 15,
     "metadata": {},
     "output_type": "execute_result"
    },
    {
     "data": {
      "image/png": "[encoded data removed]",
      "text/plain": [
       "<Figure size 432x288 with 1 Axes>"
      ]
     },
     "metadata": {
      "needs_background": "light"
     },
     "output_type": "display_data"
    }
   ],
   "source": [
    "df['company'].value_counts().sample(15).plot.bar()"
   ]
  },
  {
   "cell_type": "code",
   "execution_count": 16,
   "metadata": {},
   "outputs": [
    {
     "data": {
      "text/html": [
       "<div>\n",
       "<style scoped>\n",
       "    .dataframe tbody tr th:only-of-type {\n",
       "        vertical-align: middle;\n",
       "    }\n",
       "\n",
       "    .dataframe tbody tr th {\n",
       "        vertical-align: top;\n",
       "    }\n",
       "\n",
       "    .dataframe thead th {\n",
       "        text-align: right;\n",
       "    }\n",
       "</style>\n",
       "<table border=\"1\" class=\"dataframe\">\n",
       "  <thead>\n",
       "    <tr style=\"text-align: right;\">\n",
       "      <th></th>\n",
       "      <th>name</th>\n",
       "      <th>mobile_number</th>\n",
       "      <th>email_address</th>\n",
       "      <th>engagement_score</th>\n",
       "      <th>company</th>\n",
       "      <th>age</th>\n",
       "      <th>marital_status</th>\n",
       "      <th>gender</th>\n",
       "      <th>experience</th>\n",
       "      <th>interested</th>\n",
       "      <th>department</th>\n",
       "      <th>city</th>\n",
       "    </tr>\n",
       "  </thead>\n",
       "  <tbody>\n",
       "    <tr>\n",
       "      <th>0</th>\n",
       "      <td>Vijay</td>\n",
       "      <td>919959739997</td>\n",
       "      <td>sekharvij@gmail.com</td>\n",
       "      <td>89.0</td>\n",
       "      <td>Deloitte</td>\n",
       "      <td>24.0</td>\n",
       "      <td>Single</td>\n",
       "      <td>Male</td>\n",
       "      <td>4</td>\n",
       "      <td>1</td>\n",
       "      <td>IT</td>\n",
       "      <td>Bangalore</td>\n",
       "    </tr>\n",
       "    <tr>\n",
       "      <th>1</th>\n",
       "      <td>Ravindran Nagappan</td>\n",
       "      <td>919840107227</td>\n",
       "      <td>ravi.cti2000@gmail.com</td>\n",
       "      <td>93.0</td>\n",
       "      <td>Microsoft</td>\n",
       "      <td>30.0</td>\n",
       "      <td>Single</td>\n",
       "      <td>Male</td>\n",
       "      <td>14</td>\n",
       "      <td>0</td>\n",
       "      <td>Marketing</td>\n",
       "      <td>Tinsukia</td>\n",
       "    </tr>\n",
       "    <tr>\n",
       "      <th>2</th>\n",
       "      <td>Rohit</td>\n",
       "      <td>918408951853</td>\n",
       "      <td>rohitchouhan1119@gmail.com</td>\n",
       "      <td>89.0</td>\n",
       "      <td>CapGemini</td>\n",
       "      <td>30.0</td>\n",
       "      <td>Single</td>\n",
       "      <td>Male</td>\n",
       "      <td>11</td>\n",
       "      <td>1</td>\n",
       "      <td>DataBase</td>\n",
       "      <td>Coimbatore</td>\n",
       "    </tr>\n",
       "    <tr>\n",
       "      <th>3</th>\n",
       "      <td>Pramod Singh</td>\n",
       "      <td>918586886645</td>\n",
       "      <td>askpramodsingh@gmail.com</td>\n",
       "      <td>55.0</td>\n",
       "      <td>Amazon</td>\n",
       "      <td>50.0</td>\n",
       "      <td>Single</td>\n",
       "      <td>Female</td>\n",
       "      <td>15</td>\n",
       "      <td>0</td>\n",
       "      <td>HumanResources</td>\n",
       "      <td>Ghaziabad</td>\n",
       "    </tr>\n",
       "    <tr>\n",
       "      <th>4</th>\n",
       "      <td>Ajay Thakur</td>\n",
       "      <td>917666052926</td>\n",
       "      <td>ajay.thakur244@gmail.com</td>\n",
       "      <td>6.0</td>\n",
       "      <td>Gislen Software</td>\n",
       "      <td>54.0</td>\n",
       "      <td>Married</td>\n",
       "      <td>Female</td>\n",
       "      <td>1</td>\n",
       "      <td>0</td>\n",
       "      <td>Other</td>\n",
       "      <td>Indore</td>\n",
       "    </tr>\n",
       "  </tbody>\n",
       "</table>\n",
       "</div>"
      ],
      "text/plain": [
       "                 name mobile_number               email_address  \\\n",
       "0               Vijay  919959739997         sekharvij@gmail.com   \n",
       "1  Ravindran Nagappan  919840107227      ravi.cti2000@gmail.com   \n",
       "2               Rohit  918408951853  rohitchouhan1119@gmail.com   \n",
       "3        Pramod Singh  918586886645    askpramodsingh@gmail.com   \n",
       "4         Ajay Thakur  917666052926    ajay.thakur244@gmail.com   \n",
       "\n",
       "   engagement_score          company   age marital_status  gender  experience  \\\n",
       "0              89.0         Deloitte  24.0         Single    Male           4   \n",
       "1              93.0        Microsoft  30.0         Single    Male          14   \n",
       "2              89.0        CapGemini  30.0         Single    Male          11   \n",
       "3              55.0           Amazon  50.0         Single  Female          15   \n",
       "4               6.0  Gislen Software  54.0        Married  Female           1   \n",
       "\n",
       "   interested      department        city  \n",
       "0           1              IT   Bangalore  \n",
       "1           0       Marketing    Tinsukia  \n",
       "2           1        DataBase  Coimbatore  \n",
       "3           0  HumanResources   Ghaziabad  \n",
       "4           0           Other      Indore  "
      ]
     },
     "execution_count": 16,
     "metadata": {},
     "output_type": "execute_result"
    }
   ],
   "source": [
    "df.head()"
   ]
  },
  {
   "cell_type": "markdown",
   "metadata": {},
   "source": [
    "### Dropping unnecessary columns"
   ]
  },
  {
   "cell_type": "code",
   "execution_count": 17,
   "metadata": {},
   "outputs": [],
   "source": [
    "df = df.drop(['name','mobile_number', 'email_address'], axis =1)"
   ]
  },
  {
   "cell_type": "code",
   "execution_count": 18,
   "metadata": {},
   "outputs": [
    {
     "data": {
      "text/plain": [
       "Index(['engagement_score', 'company', 'age', 'marital_status', 'gender',\n",
       "       'experience', 'interested', 'department', 'city'],\n",
       "      dtype='object')"
      ]
     },
     "execution_count": 18,
     "metadata": {},
     "output_type": "execute_result"
    }
   ],
   "source": [
    "df.columns"
   ]
  },
  {
   "cell_type": "code",
   "execution_count": 19,
   "metadata": {},
   "outputs": [
    {
     "name": "stdout",
     "output_type": "stream",
     "text": [
      "<class 'pandas.core.frame.DataFrame'>\n",
      "RangeIndex: 1196 entries, 0 to 1195\n",
      "Data columns (total 9 columns):\n",
      "engagement_score    1196 non-null float64\n",
      "company             1196 non-null object\n",
      "age                 1196 non-null float64\n",
      "marital_status      1196 non-null object\n",
      "gender              1196 non-null object\n",
      "experience          1196 non-null int64\n",
      "interested          1196 non-null int64\n",
      "department          1196 non-null object\n",
      "city                1196 non-null object\n",
      "dtypes: float64(2), int64(2), object(5)\n",
      "memory usage: 84.2+ KB\n"
     ]
    }
   ],
   "source": [
    "df.info()"
   ]
  },
  {
   "cell_type": "code",
   "execution_count": 20,
   "metadata": {},
   "outputs": [
    {
     "data": {
      "text/html": [
       "<div>\n",
       "<style scoped>\n",
       "    .dataframe tbody tr th:only-of-type {\n",
       "        vertical-align: middle;\n",
       "    }\n",
       "\n",
       "    .dataframe tbody tr th {\n",
       "        vertical-align: top;\n",
       "    }\n",
       "\n",
       "    .dataframe thead th {\n",
       "        text-align: right;\n",
       "    }\n",
       "</style>\n",
       "<table border=\"1\" class=\"dataframe\">\n",
       "  <thead>\n",
       "    <tr style=\"text-align: right;\">\n",
       "      <th></th>\n",
       "      <th>engagement_score</th>\n",
       "      <th>company</th>\n",
       "      <th>age</th>\n",
       "      <th>marital_status</th>\n",
       "      <th>gender</th>\n",
       "      <th>experience</th>\n",
       "      <th>interested</th>\n",
       "      <th>department</th>\n",
       "      <th>city</th>\n",
       "    </tr>\n",
       "  </thead>\n",
       "  <tbody>\n",
       "    <tr>\n",
       "      <th>0</th>\n",
       "      <td>89.0</td>\n",
       "      <td>Deloitte</td>\n",
       "      <td>24.0</td>\n",
       "      <td>Single</td>\n",
       "      <td>Male</td>\n",
       "      <td>4</td>\n",
       "      <td>1</td>\n",
       "      <td>IT</td>\n",
       "      <td>Bangalore</td>\n",
       "    </tr>\n",
       "    <tr>\n",
       "      <th>1</th>\n",
       "      <td>93.0</td>\n",
       "      <td>Microsoft</td>\n",
       "      <td>30.0</td>\n",
       "      <td>Single</td>\n",
       "      <td>Male</td>\n",
       "      <td>14</td>\n",
       "      <td>0</td>\n",
       "      <td>Marketing</td>\n",
       "      <td>Tinsukia</td>\n",
       "    </tr>\n",
       "    <tr>\n",
       "      <th>2</th>\n",
       "      <td>89.0</td>\n",
       "      <td>CapGemini</td>\n",
       "      <td>30.0</td>\n",
       "      <td>Single</td>\n",
       "      <td>Male</td>\n",
       "      <td>11</td>\n",
       "      <td>1</td>\n",
       "      <td>DataBase</td>\n",
       "      <td>Coimbatore</td>\n",
       "    </tr>\n",
       "    <tr>\n",
       "      <th>3</th>\n",
       "      <td>55.0</td>\n",
       "      <td>Amazon</td>\n",
       "      <td>50.0</td>\n",
       "      <td>Single</td>\n",
       "      <td>Female</td>\n",
       "      <td>15</td>\n",
       "      <td>0</td>\n",
       "      <td>HumanResources</td>\n",
       "      <td>Ghaziabad</td>\n",
       "    </tr>\n",
       "    <tr>\n",
       "      <th>4</th>\n",
       "      <td>6.0</td>\n",
       "      <td>Gislen Software</td>\n",
       "      <td>54.0</td>\n",
       "      <td>Married</td>\n",
       "      <td>Female</td>\n",
       "      <td>1</td>\n",
       "      <td>0</td>\n",
       "      <td>Other</td>\n",
       "      <td>Indore</td>\n",
       "    </tr>\n",
       "  </tbody>\n",
       "</table>\n",
       "</div>"
      ],
      "text/plain": [
       "   engagement_score          company   age marital_status  gender  experience  \\\n",
       "0              89.0         Deloitte  24.0         Single    Male           4   \n",
       "1              93.0        Microsoft  30.0         Single    Male          14   \n",
       "2              89.0        CapGemini  30.0         Single    Male          11   \n",
       "3              55.0           Amazon  50.0         Single  Female          15   \n",
       "4               6.0  Gislen Software  54.0        Married  Female           1   \n",
       "\n",
       "   interested      department        city  \n",
       "0           1              IT   Bangalore  \n",
       "1           0       Marketing    Tinsukia  \n",
       "2           1        DataBase  Coimbatore  \n",
       "3           0  HumanResources   Ghaziabad  \n",
       "4           0           Other      Indore  "
      ]
     },
     "execution_count": 20,
     "metadata": {},
     "output_type": "execute_result"
    }
   ],
   "source": [
    "df.head()"
   ]
  },
  {
   "cell_type": "markdown",
   "metadata": {},
   "source": [
    "### Introducing a new variable to turn company into numerical variable"
   ]
  },
  {
   "cell_type": "code",
   "execution_count": 21,
   "metadata": {},
   "outputs": [],
   "source": [
    "df[\"company_size\"] = None"
   ]
  },
  {
   "cell_type": "code",
   "execution_count": 22,
   "metadata": {},
   "outputs": [],
   "source": [
    "Mnc =  ['Google','Microsoft','TCS','CTS','Wipro','Tech Mahindra','Infosys','Accenture','HCL','Deloitte','IBM','Amazon','CapGemini','Genpact']\n",
    "\n",
    "small_companies = ['VeServ','Eclature Technologies','Harini Informatics','Info Edge Solutions',\\\n",
    "                'Hi Caliber IT Solutions','Brio Technologies Private Limited','I2Space Technologies', \\\n",
    "                   'Jaro Education','Omniscient IT Solutions Pvt Ltd','Esalemedia','Askmeguru',\\\n",
    "                   'Metacube Software Pvt. Ltd','Accuracy','Mindtree','IntelloLabs','Intelex Systems'\\\n",
    "                   ,'Sopra Steria','IBrand Solutions','Team Embedded','Cravaka Info Systems','Brihaspathi Technologies'\\\n",
    "                  'MBR Informatics','Impecsoft Solutions','Innvectra Softech','Yana Software Private Limited'\\\n",
    "                  'Olympiasoft','Techno Brain Ltd','Software Solutions','EON Technologies','Rapidsoft Technologies Pvt Ltd',\\\n",
    "                  'Toshiba Software India Pvt ltd', 'Embassy IT Solutions']\n",
    "small_companies2 =  ['Gayatri Software Services Pvt Ltd','Sonata Software Limited', 'Deforay Technologies Pvt. Ltd',\\\n",
    "                     'ZOVIL TECHNOLOGIES', 'Aspire Software Solutions','Pramati Technologies','Hakuna Matata Solutions',\\\n",
    "                     'Prodapt Solutions Pvt Ltd','I S INFOTECH PVT LTD','Gislen Software','OG Software Solutions India Pvt Ltd',\\\n",
    "                     'CA Technologies','Infotech Enterprises','Persistent Systems','Mahindra Satyam']\n",
    "\n",
    "small = small_companies + small_companies2"
   ]
  },
  {
   "cell_type": "code",
   "execution_count": 23,
   "metadata": {},
   "outputs": [],
   "source": [
    "for i in range(df.shape[0]):\n",
    "    if df.iloc[i,1] in Mnc:\n",
    "        df.iloc[i,9] = 1\n",
    "    elif df.iloc[i,1] in small:\n",
    "        df.iloc[i,9] = 0"
   ]
  },
  {
   "cell_type": "code",
   "execution_count": 24,
   "metadata": {},
   "outputs": [
    {
     "data": {
      "text/html": [
       "<div>\n",
       "<style scoped>\n",
       "    .dataframe tbody tr th:only-of-type {\n",
       "        vertical-align: middle;\n",
       "    }\n",
       "\n",
       "    .dataframe tbody tr th {\n",
       "        vertical-align: top;\n",
       "    }\n",
       "\n",
       "    .dataframe thead th {\n",
       "        text-align: right;\n",
       "    }\n",
       "</style>\n",
       "<table border=\"1\" class=\"dataframe\">\n",
       "  <thead>\n",
       "    <tr style=\"text-align: right;\">\n",
       "      <th></th>\n",
       "      <th>engagement_score</th>\n",
       "      <th>company</th>\n",
       "      <th>age</th>\n",
       "      <th>marital_status</th>\n",
       "      <th>gender</th>\n",
       "      <th>experience</th>\n",
       "      <th>interested</th>\n",
       "      <th>department</th>\n",
       "      <th>city</th>\n",
       "      <th>company_size</th>\n",
       "    </tr>\n",
       "  </thead>\n",
       "  <tbody>\n",
       "    <tr>\n",
       "      <th>0</th>\n",
       "      <td>89.0</td>\n",
       "      <td>Deloitte</td>\n",
       "      <td>24.0</td>\n",
       "      <td>Single</td>\n",
       "      <td>Male</td>\n",
       "      <td>4</td>\n",
       "      <td>1</td>\n",
       "      <td>IT</td>\n",
       "      <td>Bangalore</td>\n",
       "      <td>1</td>\n",
       "    </tr>\n",
       "    <tr>\n",
       "      <th>1</th>\n",
       "      <td>93.0</td>\n",
       "      <td>Microsoft</td>\n",
       "      <td>30.0</td>\n",
       "      <td>Single</td>\n",
       "      <td>Male</td>\n",
       "      <td>14</td>\n",
       "      <td>0</td>\n",
       "      <td>Marketing</td>\n",
       "      <td>Tinsukia</td>\n",
       "      <td>1</td>\n",
       "    </tr>\n",
       "    <tr>\n",
       "      <th>2</th>\n",
       "      <td>89.0</td>\n",
       "      <td>CapGemini</td>\n",
       "      <td>30.0</td>\n",
       "      <td>Single</td>\n",
       "      <td>Male</td>\n",
       "      <td>11</td>\n",
       "      <td>1</td>\n",
       "      <td>DataBase</td>\n",
       "      <td>Coimbatore</td>\n",
       "      <td>1</td>\n",
       "    </tr>\n",
       "    <tr>\n",
       "      <th>3</th>\n",
       "      <td>55.0</td>\n",
       "      <td>Amazon</td>\n",
       "      <td>50.0</td>\n",
       "      <td>Single</td>\n",
       "      <td>Female</td>\n",
       "      <td>15</td>\n",
       "      <td>0</td>\n",
       "      <td>HumanResources</td>\n",
       "      <td>Ghaziabad</td>\n",
       "      <td>1</td>\n",
       "    </tr>\n",
       "    <tr>\n",
       "      <th>4</th>\n",
       "      <td>6.0</td>\n",
       "      <td>Gislen Software</td>\n",
       "      <td>54.0</td>\n",
       "      <td>Married</td>\n",
       "      <td>Female</td>\n",
       "      <td>1</td>\n",
       "      <td>0</td>\n",
       "      <td>Other</td>\n",
       "      <td>Indore</td>\n",
       "      <td>0</td>\n",
       "    </tr>\n",
       "  </tbody>\n",
       "</table>\n",
       "</div>"
      ],
      "text/plain": [
       "   engagement_score          company   age marital_status  gender  experience  \\\n",
       "0              89.0         Deloitte  24.0         Single    Male           4   \n",
       "1              93.0        Microsoft  30.0         Single    Male          14   \n",
       "2              89.0        CapGemini  30.0         Single    Male          11   \n",
       "3              55.0           Amazon  50.0         Single  Female          15   \n",
       "4               6.0  Gislen Software  54.0        Married  Female           1   \n",
       "\n",
       "   interested      department        city  company_size  \n",
       "0           1              IT   Bangalore             1  \n",
       "1           0       Marketing    Tinsukia             1  \n",
       "2           1        DataBase  Coimbatore             1  \n",
       "3           0  HumanResources   Ghaziabad             1  \n",
       "4           0           Other      Indore             0  "
      ]
     },
     "execution_count": 24,
     "metadata": {},
     "output_type": "execute_result"
    }
   ],
   "source": [
    "df.head()"
   ]
  },
  {
   "cell_type": "code",
   "execution_count": 25,
   "metadata": {},
   "outputs": [],
   "source": [
    "df = df.drop('company', axis = 1)"
   ]
  },
  {
   "cell_type": "code",
   "execution_count": 26,
   "metadata": {},
   "outputs": [
    {
     "data": {
      "text/html": [
       "<div>\n",
       "<style scoped>\n",
       "    .dataframe tbody tr th:only-of-type {\n",
       "        vertical-align: middle;\n",
       "    }\n",
       "\n",
       "    .dataframe tbody tr th {\n",
       "        vertical-align: top;\n",
       "    }\n",
       "\n",
       "    .dataframe thead th {\n",
       "        text-align: right;\n",
       "    }\n",
       "</style>\n",
       "<table border=\"1\" class=\"dataframe\">\n",
       "  <thead>\n",
       "    <tr style=\"text-align: right;\">\n",
       "      <th></th>\n",
       "      <th>engagement_score</th>\n",
       "      <th>age</th>\n",
       "      <th>marital_status</th>\n",
       "      <th>gender</th>\n",
       "      <th>experience</th>\n",
       "      <th>interested</th>\n",
       "      <th>department</th>\n",
       "      <th>city</th>\n",
       "      <th>company_size</th>\n",
       "    </tr>\n",
       "  </thead>\n",
       "  <tbody>\n",
       "    <tr>\n",
       "      <th>0</th>\n",
       "      <td>89.0</td>\n",
       "      <td>24.0</td>\n",
       "      <td>Single</td>\n",
       "      <td>Male</td>\n",
       "      <td>4</td>\n",
       "      <td>1</td>\n",
       "      <td>IT</td>\n",
       "      <td>Bangalore</td>\n",
       "      <td>1</td>\n",
       "    </tr>\n",
       "    <tr>\n",
       "      <th>1</th>\n",
       "      <td>93.0</td>\n",
       "      <td>30.0</td>\n",
       "      <td>Single</td>\n",
       "      <td>Male</td>\n",
       "      <td>14</td>\n",
       "      <td>0</td>\n",
       "      <td>Marketing</td>\n",
       "      <td>Tinsukia</td>\n",
       "      <td>1</td>\n",
       "    </tr>\n",
       "    <tr>\n",
       "      <th>2</th>\n",
       "      <td>89.0</td>\n",
       "      <td>30.0</td>\n",
       "      <td>Single</td>\n",
       "      <td>Male</td>\n",
       "      <td>11</td>\n",
       "      <td>1</td>\n",
       "      <td>DataBase</td>\n",
       "      <td>Coimbatore</td>\n",
       "      <td>1</td>\n",
       "    </tr>\n",
       "    <tr>\n",
       "      <th>3</th>\n",
       "      <td>55.0</td>\n",
       "      <td>50.0</td>\n",
       "      <td>Single</td>\n",
       "      <td>Female</td>\n",
       "      <td>15</td>\n",
       "      <td>0</td>\n",
       "      <td>HumanResources</td>\n",
       "      <td>Ghaziabad</td>\n",
       "      <td>1</td>\n",
       "    </tr>\n",
       "    <tr>\n",
       "      <th>4</th>\n",
       "      <td>6.0</td>\n",
       "      <td>54.0</td>\n",
       "      <td>Married</td>\n",
       "      <td>Female</td>\n",
       "      <td>1</td>\n",
       "      <td>0</td>\n",
       "      <td>Other</td>\n",
       "      <td>Indore</td>\n",
       "      <td>0</td>\n",
       "    </tr>\n",
       "  </tbody>\n",
       "</table>\n",
       "</div>"
      ],
      "text/plain": [
       "   engagement_score   age marital_status  gender  experience  interested  \\\n",
       "0              89.0  24.0         Single    Male           4           1   \n",
       "1              93.0  30.0         Single    Male          14           0   \n",
       "2              89.0  30.0         Single    Male          11           1   \n",
       "3              55.0  50.0         Single  Female          15           0   \n",
       "4               6.0  54.0        Married  Female           1           0   \n",
       "\n",
       "       department        city  company_size  \n",
       "0              IT   Bangalore             1  \n",
       "1       Marketing    Tinsukia             1  \n",
       "2        DataBase  Coimbatore             1  \n",
       "3  HumanResources   Ghaziabad             1  \n",
       "4           Other      Indore             0  "
      ]
     },
     "execution_count": 26,
     "metadata": {},
     "output_type": "execute_result"
    }
   ],
   "source": [
    "df.head()"
   ]
  },
  {
   "cell_type": "code",
   "execution_count": 27,
   "metadata": {},
   "outputs": [
    {
     "data": {
      "text/html": [
       "<div>\n",
       "<style scoped>\n",
       "    .dataframe tbody tr th:only-of-type {\n",
       "        vertical-align: middle;\n",
       "    }\n",
       "\n",
       "    .dataframe tbody tr th {\n",
       "        vertical-align: top;\n",
       "    }\n",
       "\n",
       "    .dataframe thead th {\n",
       "        text-align: right;\n",
       "    }\n",
       "</style>\n",
       "<table border=\"1\" class=\"dataframe\">\n",
       "  <thead>\n",
       "    <tr style=\"text-align: right;\">\n",
       "      <th></th>\n",
       "      <th>engagement_score</th>\n",
       "      <th>age</th>\n",
       "      <th>marital_status</th>\n",
       "      <th>gender</th>\n",
       "      <th>experience</th>\n",
       "      <th>interested</th>\n",
       "      <th>department</th>\n",
       "      <th>city</th>\n",
       "      <th>company_size</th>\n",
       "    </tr>\n",
       "  </thead>\n",
       "  <tbody>\n",
       "    <tr>\n",
       "      <th>902</th>\n",
       "      <td>68.0</td>\n",
       "      <td>31.0</td>\n",
       "      <td>Married</td>\n",
       "      <td>Female</td>\n",
       "      <td>13</td>\n",
       "      <td>1</td>\n",
       "      <td>DataBase</td>\n",
       "      <td>Chennai</td>\n",
       "      <td>0</td>\n",
       "    </tr>\n",
       "    <tr>\n",
       "      <th>1108</th>\n",
       "      <td>25.0</td>\n",
       "      <td>40.0</td>\n",
       "      <td>Married</td>\n",
       "      <td>Female</td>\n",
       "      <td>2</td>\n",
       "      <td>0</td>\n",
       "      <td>Finance</td>\n",
       "      <td>Jodhpur</td>\n",
       "      <td>0</td>\n",
       "    </tr>\n",
       "    <tr>\n",
       "      <th>429</th>\n",
       "      <td>60.0</td>\n",
       "      <td>33.0</td>\n",
       "      <td>Married</td>\n",
       "      <td>Female</td>\n",
       "      <td>12</td>\n",
       "      <td>1</td>\n",
       "      <td>Marketing</td>\n",
       "      <td>Nasik</td>\n",
       "      <td>0</td>\n",
       "    </tr>\n",
       "    <tr>\n",
       "      <th>371</th>\n",
       "      <td>43.0</td>\n",
       "      <td>49.0</td>\n",
       "      <td>Single</td>\n",
       "      <td>Male</td>\n",
       "      <td>16</td>\n",
       "      <td>0</td>\n",
       "      <td>Operations</td>\n",
       "      <td>Amritsar</td>\n",
       "      <td>1</td>\n",
       "    </tr>\n",
       "    <tr>\n",
       "      <th>421</th>\n",
       "      <td>53.0</td>\n",
       "      <td>38.0</td>\n",
       "      <td>Single</td>\n",
       "      <td>Male</td>\n",
       "      <td>18</td>\n",
       "      <td>1</td>\n",
       "      <td>IT</td>\n",
       "      <td>Bangalore</td>\n",
       "      <td>1</td>\n",
       "    </tr>\n",
       "  </tbody>\n",
       "</table>\n",
       "</div>"
      ],
      "text/plain": [
       "      engagement_score   age marital_status  gender  experience  interested  \\\n",
       "902               68.0  31.0        Married  Female          13           1   \n",
       "1108              25.0  40.0        Married  Female           2           0   \n",
       "429               60.0  33.0        Married  Female          12           1   \n",
       "371               43.0  49.0         Single    Male          16           0   \n",
       "421               53.0  38.0         Single    Male          18           1   \n",
       "\n",
       "      department       city  company_size  \n",
       "902     DataBase    Chennai             0  \n",
       "1108     Finance    Jodhpur             0  \n",
       "429    Marketing      Nasik             0  \n",
       "371   Operations   Amritsar             1  \n",
       "421           IT  Bangalore             1  "
      ]
     },
     "execution_count": 27,
     "metadata": {},
     "output_type": "execute_result"
    }
   ],
   "source": [
    "df.sample(5)"
   ]
  },
  {
   "cell_type": "code",
   "execution_count": 28,
   "metadata": {},
   "outputs": [],
   "source": [
    "gender_map = {'Male': 1, 'Female': 0 }\n",
    "df['gender'] = df['gender'].map(gender_map)"
   ]
  },
  {
   "cell_type": "code",
   "execution_count": 29,
   "metadata": {},
   "outputs": [
    {
     "data": {
      "image/png": "[encoded data removed]",
      "text/plain": [
       "<Figure size 432x288 with 1 Axes>"
      ]
     },
     "metadata": {},
     "output_type": "display_data"
    }
   ],
   "source": [
    "# pie chart\n",
    "labels = ['Male', 'Female']\n",
    "sizes = [df['gender'].value_counts()[1],\n",
    "      df['gender'].value_counts()[0]]\n",
    "fig1, ax1 = plt.subplots()\n",
    "ax1.pie(sizes, labels=labels, autopct='%1.1f%%', shadow=True)\n",
    "ax1.axis('equal')\n",
    "plt.title('Gender Pie Chart', fontsize=20)\n",
    "plt.show()"
   ]
  },
  {
   "cell_type": "code",
   "execution_count": 30,
   "metadata": {},
   "outputs": [
    {
     "name": "stderr",
     "output_type": "stream",
     "text": [
      "c:\\users\\ananta arora\\appdata\\local\\programs\\python\\python37\\lib\\site-packages\\seaborn\\axisgrid.py:230: UserWarning: The `size` paramter has been renamed to `height`; please update your code.\n",
      "  warnings.warn(msg, UserWarning)\n",
      "c:\\users\\ananta arora\\appdata\\local\\programs\\python\\python37\\lib\\site-packages\\seaborn\\axisgrid.py:715: UserWarning: Using the barplot function without specifying `order` is likely to produce an incorrect plot.\n",
      "  warnings.warn(warning)\n"
     ]
    },
    {
     "data": {
      "text/plain": [
       "<seaborn.axisgrid.FacetGrid at 0x15a4e34c588>"
      ]
     },
     "execution_count": 30,
     "metadata": {},
     "output_type": "execute_result"
    },
    {
     "data": {
      "image/png": "[encoded data removed]",
      "text/plain": [
       "<Figure size 514.88x316.8 with 4 Axes>"
      ]
     },
     "metadata": {
      "needs_background": "light"
     },
     "output_type": "display_data"
    }
   ],
   "source": [
    "grid = sns.FacetGrid(df, row='gender', col='interested', size=2.2, aspect=1.6)\n",
    "grid.map(sns.barplot, 'gender', 'age', alpha=.5, ci=None)\n",
    "grid.add_legend()\n"
   ]
  },
  {
   "cell_type": "code",
   "execution_count": 31,
   "metadata": {},
   "outputs": [
    {
     "data": {
      "text/plain": [
       "<seaborn.axisgrid.FacetGrid at 0x15a4e540a20>"
      ]
     },
     "execution_count": 31,
     "metadata": {},
     "output_type": "execute_result"
    },
    {
     "data": {
      "image/png": "[encoded data removed]",
      "text/plain": [
       "<Figure size 432x216 with 2 Axes>"
      ]
     },
     "metadata": {
      "needs_background": "light"
     },
     "output_type": "display_data"
    }
   ],
   "source": [
    "g = sns.FacetGrid(df, col='interested')\n",
    "g.map(plt.hist, 'age', bins = 20)\n"
   ]
  },
  {
   "cell_type": "code",
   "execution_count": 32,
   "metadata": {},
   "outputs": [
    {
     "data": {
      "text/plain": [
       "<seaborn.axisgrid.FacetGrid at 0x15a4e593550>"
      ]
     },
     "execution_count": 32,
     "metadata": {},
     "output_type": "execute_result"
    },
    {
     "data": {
      "image/png": "[encoded data removed]",
      "text/plain": [
       "<Figure size 514.88x3168 with 40 Axes>"
      ]
     },
     "metadata": {
      "needs_background": "light"
     },
     "output_type": "display_data"
    }
   ],
   "source": [
    "grid = sns.FacetGrid(df, row='experience', col='interested', size=2.2, aspect=1.6)\n",
    "grid.map(sns.barplot, 'experience', 'age', alpha=.5, ci=None)\n",
    "grid.add_legend()\n"
   ]
  },
  {
   "cell_type": "code",
   "execution_count": 33,
   "metadata": {},
   "outputs": [],
   "source": [
    "marital_map = {'Single': 1, 'Married': 0 }\n",
    "df['marital_status'] = df['marital_status'].map(marital_map)"
   ]
  },
  {
   "cell_type": "code",
   "execution_count": 34,
   "metadata": {},
   "outputs": [],
   "source": [
    "df = df.sample(frac=1).reset_index(drop=True)"
   ]
  },
  {
   "cell_type": "code",
   "execution_count": 35,
   "metadata": {},
   "outputs": [
    {
     "data": {
      "text/html": [
       "<div>\n",
       "<style scoped>\n",
       "    .dataframe tbody tr th:only-of-type {\n",
       "        vertical-align: middle;\n",
       "    }\n",
       "\n",
       "    .dataframe tbody tr th {\n",
       "        vertical-align: top;\n",
       "    }\n",
       "\n",
       "    .dataframe thead th {\n",
       "        text-align: right;\n",
       "    }\n",
       "</style>\n",
       "<table border=\"1\" class=\"dataframe\">\n",
       "  <thead>\n",
       "    <tr style=\"text-align: right;\">\n",
       "      <th></th>\n",
       "      <th>engagement_score</th>\n",
       "      <th>age</th>\n",
       "      <th>marital_status</th>\n",
       "      <th>gender</th>\n",
       "      <th>experience</th>\n",
       "      <th>interested</th>\n",
       "      <th>department</th>\n",
       "      <th>city</th>\n",
       "      <th>company_size</th>\n",
       "    </tr>\n",
       "  </thead>\n",
       "  <tbody>\n",
       "    <tr>\n",
       "      <th>0</th>\n",
       "      <td>62.0</td>\n",
       "      <td>30.0</td>\n",
       "      <td>1</td>\n",
       "      <td>1</td>\n",
       "      <td>15</td>\n",
       "      <td>1</td>\n",
       "      <td>Operations</td>\n",
       "      <td>Tinsukia</td>\n",
       "      <td>1</td>\n",
       "    </tr>\n",
       "    <tr>\n",
       "      <th>1</th>\n",
       "      <td>77.0</td>\n",
       "      <td>45.0</td>\n",
       "      <td>1</td>\n",
       "      <td>1</td>\n",
       "      <td>15</td>\n",
       "      <td>1</td>\n",
       "      <td>DataBase</td>\n",
       "      <td>Pondicherry</td>\n",
       "      <td>1</td>\n",
       "    </tr>\n",
       "    <tr>\n",
       "      <th>2</th>\n",
       "      <td>73.0</td>\n",
       "      <td>29.0</td>\n",
       "      <td>1</td>\n",
       "      <td>1</td>\n",
       "      <td>16</td>\n",
       "      <td>1</td>\n",
       "      <td>Operations</td>\n",
       "      <td>Silchar</td>\n",
       "      <td>1</td>\n",
       "    </tr>\n",
       "    <tr>\n",
       "      <th>3</th>\n",
       "      <td>75.0</td>\n",
       "      <td>46.0</td>\n",
       "      <td>0</td>\n",
       "      <td>0</td>\n",
       "      <td>19</td>\n",
       "      <td>0</td>\n",
       "      <td>HumanResources</td>\n",
       "      <td>Indore</td>\n",
       "      <td>0</td>\n",
       "    </tr>\n",
       "    <tr>\n",
       "      <th>4</th>\n",
       "      <td>71.0</td>\n",
       "      <td>29.0</td>\n",
       "      <td>1</td>\n",
       "      <td>1</td>\n",
       "      <td>3</td>\n",
       "      <td>1</td>\n",
       "      <td>Finance</td>\n",
       "      <td>Srinagar</td>\n",
       "      <td>1</td>\n",
       "    </tr>\n",
       "  </tbody>\n",
       "</table>\n",
       "</div>"
      ],
      "text/plain": [
       "   engagement_score   age  marital_status  gender  experience  interested  \\\n",
       "0              62.0  30.0               1       1          15           1   \n",
       "1              77.0  45.0               1       1          15           1   \n",
       "2              73.0  29.0               1       1          16           1   \n",
       "3              75.0  46.0               0       0          19           0   \n",
       "4              71.0  29.0               1       1           3           1   \n",
       "\n",
       "       department         city  company_size  \n",
       "0      Operations     Tinsukia             1  \n",
       "1        DataBase  Pondicherry             1  \n",
       "2      Operations      Silchar             1  \n",
       "3  HumanResources       Indore             0  \n",
       "4         Finance     Srinagar             1  "
      ]
     },
     "execution_count": 35,
     "metadata": {},
     "output_type": "execute_result"
    }
   ],
   "source": [
    "df.head()"
   ]
  },
  {
   "cell_type": "code",
   "execution_count": 36,
   "metadata": {},
   "outputs": [
    {
     "data": {
      "text/plain": [
       "engagement_score    0\n",
       "age                 0\n",
       "marital_status      0\n",
       "gender              0\n",
       "experience          0\n",
       "interested          0\n",
       "department          0\n",
       "city                0\n",
       "company_size        0\n",
       "dtype: int64"
      ]
     },
     "execution_count": 36,
     "metadata": {},
     "output_type": "execute_result"
    }
   ],
   "source": [
    "df.isnull().sum()"
   ]
  },
  {
   "cell_type": "code",
   "execution_count": 37,
   "metadata": {},
   "outputs": [
    {
     "data": {
      "text/plain": [
       "9"
      ]
     },
     "execution_count": 37,
     "metadata": {},
     "output_type": "execute_result"
    }
   ],
   "source": [
    "df.department.nunique()"
   ]
  },
  {
   "cell_type": "code",
   "execution_count": null,
   "metadata": {},
   "outputs": [],
   "source": []
  },
  {
   "cell_type": "code",
   "execution_count": 38,
   "metadata": {},
   "outputs": [],
   "source": [
    "South = ['Bangalore','Mysore','Chennai','Pondicherry',\\\n",
    "         'Madurai','kochi', 'Coimbatore','Hyderabad',' Thiruvananthapuram']\n",
    "\n",
    "North = ['Delhi','Gurgaon',\\\n",
    "         'Faridabad','Lucknow','Meerut','Chandigarh','Srinagar',\\\n",
    "         'Ludhiana','kanpur','Varanasi','Amritsar','Aligarh','Jalandhar',\\\n",
    "         'Ghaziabad','Moradabad','Bareilly','Agra','Gwalior',\\\n",
    "         'Jabalpur','Jodhpur','Kota','Srinagar','Patna','Bhopal','Indore']\n",
    "\n",
    "East = ['Patna','Allahabad','Darjeeling',\\\n",
    "        'Bhubaneshwar','Gangtok','Kohima','Tezpur','Dhubri',\\\n",
    "        'Tinsukia','Nagaon','Jorhat','Silchar','Imphal','Aizwal',\\\n",
    "        'Shillong','Dimapur','Guwuhati','Agartala']\n",
    "\n",
    "West = ['Ahemdabad','Goa','Bhopal','Aurangabad',\\\n",
    "        'Lonavala','Mahabaleshwar','Mumbai','Nagpur','Nasik',\\\n",
    "        'Surat','Solapur','Thane','Pachmarhi','Rajkot','Satara']"
   ]
  },
  {
   "cell_type": "code",
   "execution_count": 39,
   "metadata": {},
   "outputs": [
    {
     "data": {
      "text/html": [
       "<div>\n",
       "<style scoped>\n",
       "    .dataframe tbody tr th:only-of-type {\n",
       "        vertical-align: middle;\n",
       "    }\n",
       "\n",
       "    .dataframe tbody tr th {\n",
       "        vertical-align: top;\n",
       "    }\n",
       "\n",
       "    .dataframe thead th {\n",
       "        text-align: right;\n",
       "    }\n",
       "</style>\n",
       "<table border=\"1\" class=\"dataframe\">\n",
       "  <thead>\n",
       "    <tr style=\"text-align: right;\">\n",
       "      <th></th>\n",
       "      <th>engagement_score</th>\n",
       "      <th>age</th>\n",
       "      <th>marital_status</th>\n",
       "      <th>gender</th>\n",
       "      <th>experience</th>\n",
       "      <th>interested</th>\n",
       "      <th>department</th>\n",
       "      <th>city</th>\n",
       "      <th>company_size</th>\n",
       "    </tr>\n",
       "  </thead>\n",
       "  <tbody>\n",
       "    <tr>\n",
       "      <th>0</th>\n",
       "      <td>62.0</td>\n",
       "      <td>30.0</td>\n",
       "      <td>1</td>\n",
       "      <td>1</td>\n",
       "      <td>15</td>\n",
       "      <td>1</td>\n",
       "      <td>Operations</td>\n",
       "      <td>Tinsukia</td>\n",
       "      <td>1</td>\n",
       "    </tr>\n",
       "    <tr>\n",
       "      <th>1</th>\n",
       "      <td>77.0</td>\n",
       "      <td>45.0</td>\n",
       "      <td>1</td>\n",
       "      <td>1</td>\n",
       "      <td>15</td>\n",
       "      <td>1</td>\n",
       "      <td>DataBase</td>\n",
       "      <td>Pondicherry</td>\n",
       "      <td>1</td>\n",
       "    </tr>\n",
       "    <tr>\n",
       "      <th>2</th>\n",
       "      <td>73.0</td>\n",
       "      <td>29.0</td>\n",
       "      <td>1</td>\n",
       "      <td>1</td>\n",
       "      <td>16</td>\n",
       "      <td>1</td>\n",
       "      <td>Operations</td>\n",
       "      <td>Silchar</td>\n",
       "      <td>1</td>\n",
       "    </tr>\n",
       "    <tr>\n",
       "      <th>3</th>\n",
       "      <td>75.0</td>\n",
       "      <td>46.0</td>\n",
       "      <td>0</td>\n",
       "      <td>0</td>\n",
       "      <td>19</td>\n",
       "      <td>0</td>\n",
       "      <td>HumanResources</td>\n",
       "      <td>Indore</td>\n",
       "      <td>0</td>\n",
       "    </tr>\n",
       "    <tr>\n",
       "      <th>4</th>\n",
       "      <td>71.0</td>\n",
       "      <td>29.0</td>\n",
       "      <td>1</td>\n",
       "      <td>1</td>\n",
       "      <td>3</td>\n",
       "      <td>1</td>\n",
       "      <td>Finance</td>\n",
       "      <td>Srinagar</td>\n",
       "      <td>1</td>\n",
       "    </tr>\n",
       "  </tbody>\n",
       "</table>\n",
       "</div>"
      ],
      "text/plain": [
       "   engagement_score   age  marital_status  gender  experience  interested  \\\n",
       "0              62.0  30.0               1       1          15           1   \n",
       "1              77.0  45.0               1       1          15           1   \n",
       "2              73.0  29.0               1       1          16           1   \n",
       "3              75.0  46.0               0       0          19           0   \n",
       "4              71.0  29.0               1       1           3           1   \n",
       "\n",
       "       department         city  company_size  \n",
       "0      Operations     Tinsukia             1  \n",
       "1        DataBase  Pondicherry             1  \n",
       "2      Operations      Silchar             1  \n",
       "3  HumanResources       Indore             0  \n",
       "4         Finance     Srinagar             1  "
      ]
     },
     "execution_count": 39,
     "metadata": {},
     "output_type": "execute_result"
    }
   ],
   "source": [
    "df.head()"
   ]
  },
  {
   "cell_type": "code",
   "execution_count": 40,
   "metadata": {},
   "outputs": [
    {
     "data": {
      "text/plain": [
       "(1196, 9)"
      ]
     },
     "execution_count": 40,
     "metadata": {},
     "output_type": "execute_result"
    }
   ],
   "source": [
    "df.shape"
   ]
  },
  {
   "cell_type": "code",
   "execution_count": 41,
   "metadata": {},
   "outputs": [
    {
     "data": {
      "text/plain": [
       "Index(['engagement_score', 'age', 'marital_status', 'gender', 'experience',\n",
       "       'interested', 'department', 'city', 'company_size'],\n",
       "      dtype='object')"
      ]
     },
     "execution_count": 41,
     "metadata": {},
     "output_type": "execute_result"
    }
   ],
   "source": [
    "df.columns"
   ]
  },
  {
   "cell_type": "code",
   "execution_count": 42,
   "metadata": {},
   "outputs": [],
   "source": [
    "df['zone'] = None"
   ]
  },
  {
   "cell_type": "code",
   "execution_count": 43,
   "metadata": {
    "scrolled": true
   },
   "outputs": [
    {
     "data": {
      "text/plain": [
       "True"
      ]
     },
     "execution_count": 43,
     "metadata": {},
     "output_type": "execute_result"
    }
   ],
   "source": [
    "df.iloc[10,7] in South"
   ]
  },
  {
   "cell_type": "code",
   "execution_count": 44,
   "metadata": {},
   "outputs": [],
   "source": [
    "for i in range(df.shape[0]):\n",
    "    if df.iloc[i,7] in South:\n",
    "        df.iloc[i,9] = 'South'\n",
    "    \n",
    "    elif df.iloc[i,7] in North:\n",
    "        df.iloc[i,9] = 'North'\n",
    "        \n",
    "    elif df.iloc[i,7] in East:\n",
    "        df.iloc[i,9] = 'East'\n",
    "        \n",
    "    elif df.iloc[i,7] in West:\n",
    "        df.iloc[i,9] = 'West'\n",
    "        "
   ]
  },
  {
   "cell_type": "code",
   "execution_count": 45,
   "metadata": {},
   "outputs": [
    {
     "data": {
      "text/html": [
       "<div>\n",
       "<style scoped>\n",
       "    .dataframe tbody tr th:only-of-type {\n",
       "        vertical-align: middle;\n",
       "    }\n",
       "\n",
       "    .dataframe tbody tr th {\n",
       "        vertical-align: top;\n",
       "    }\n",
       "\n",
       "    .dataframe thead th {\n",
       "        text-align: right;\n",
       "    }\n",
       "</style>\n",
       "<table border=\"1\" class=\"dataframe\">\n",
       "  <thead>\n",
       "    <tr style=\"text-align: right;\">\n",
       "      <th></th>\n",
       "      <th>engagement_score</th>\n",
       "      <th>age</th>\n",
       "      <th>marital_status</th>\n",
       "      <th>gender</th>\n",
       "      <th>experience</th>\n",
       "      <th>interested</th>\n",
       "      <th>department</th>\n",
       "      <th>city</th>\n",
       "      <th>company_size</th>\n",
       "      <th>zone</th>\n",
       "    </tr>\n",
       "  </thead>\n",
       "  <tbody>\n",
       "    <tr>\n",
       "      <th>0</th>\n",
       "      <td>62.0</td>\n",
       "      <td>30.0</td>\n",
       "      <td>1</td>\n",
       "      <td>1</td>\n",
       "      <td>15</td>\n",
       "      <td>1</td>\n",
       "      <td>Operations</td>\n",
       "      <td>Tinsukia</td>\n",
       "      <td>1</td>\n",
       "      <td>East</td>\n",
       "    </tr>\n",
       "    <tr>\n",
       "      <th>1</th>\n",
       "      <td>77.0</td>\n",
       "      <td>45.0</td>\n",
       "      <td>1</td>\n",
       "      <td>1</td>\n",
       "      <td>15</td>\n",
       "      <td>1</td>\n",
       "      <td>DataBase</td>\n",
       "      <td>Pondicherry</td>\n",
       "      <td>1</td>\n",
       "      <td>South</td>\n",
       "    </tr>\n",
       "    <tr>\n",
       "      <th>2</th>\n",
       "      <td>73.0</td>\n",
       "      <td>29.0</td>\n",
       "      <td>1</td>\n",
       "      <td>1</td>\n",
       "      <td>16</td>\n",
       "      <td>1</td>\n",
       "      <td>Operations</td>\n",
       "      <td>Silchar</td>\n",
       "      <td>1</td>\n",
       "      <td>East</td>\n",
       "    </tr>\n",
       "    <tr>\n",
       "      <th>3</th>\n",
       "      <td>75.0</td>\n",
       "      <td>46.0</td>\n",
       "      <td>0</td>\n",
       "      <td>0</td>\n",
       "      <td>19</td>\n",
       "      <td>0</td>\n",
       "      <td>HumanResources</td>\n",
       "      <td>Indore</td>\n",
       "      <td>0</td>\n",
       "      <td>North</td>\n",
       "    </tr>\n",
       "    <tr>\n",
       "      <th>4</th>\n",
       "      <td>71.0</td>\n",
       "      <td>29.0</td>\n",
       "      <td>1</td>\n",
       "      <td>1</td>\n",
       "      <td>3</td>\n",
       "      <td>1</td>\n",
       "      <td>Finance</td>\n",
       "      <td>Srinagar</td>\n",
       "      <td>1</td>\n",
       "      <td>North</td>\n",
       "    </tr>\n",
       "  </tbody>\n",
       "</table>\n",
       "</div>"
      ],
      "text/plain": [
       "   engagement_score   age  marital_status  gender  experience  interested  \\\n",
       "0              62.0  30.0               1       1          15           1   \n",
       "1              77.0  45.0               1       1          15           1   \n",
       "2              73.0  29.0               1       1          16           1   \n",
       "3              75.0  46.0               0       0          19           0   \n",
       "4              71.0  29.0               1       1           3           1   \n",
       "\n",
       "       department         city  company_size   zone  \n",
       "0      Operations     Tinsukia             1   East  \n",
       "1        DataBase  Pondicherry             1  South  \n",
       "2      Operations      Silchar             1   East  \n",
       "3  HumanResources       Indore             0  North  \n",
       "4         Finance     Srinagar             1  North  "
      ]
     },
     "execution_count": 45,
     "metadata": {},
     "output_type": "execute_result"
    }
   ],
   "source": [
    "df.head()"
   ]
  },
  {
   "cell_type": "code",
   "execution_count": 46,
   "metadata": {},
   "outputs": [],
   "source": [
    "df.drop('city',axis = 1, inplace = True)"
   ]
  },
  {
   "cell_type": "code",
   "execution_count": 47,
   "metadata": {},
   "outputs": [
    {
     "data": {
      "text/html": [
       "<div>\n",
       "<style scoped>\n",
       "    .dataframe tbody tr th:only-of-type {\n",
       "        vertical-align: middle;\n",
       "    }\n",
       "\n",
       "    .dataframe tbody tr th {\n",
       "        vertical-align: top;\n",
       "    }\n",
       "\n",
       "    .dataframe thead th {\n",
       "        text-align: right;\n",
       "    }\n",
       "</style>\n",
       "<table border=\"1\" class=\"dataframe\">\n",
       "  <thead>\n",
       "    <tr style=\"text-align: right;\">\n",
       "      <th></th>\n",
       "      <th>engagement_score</th>\n",
       "      <th>age</th>\n",
       "      <th>marital_status</th>\n",
       "      <th>gender</th>\n",
       "      <th>experience</th>\n",
       "      <th>interested</th>\n",
       "      <th>department</th>\n",
       "      <th>company_size</th>\n",
       "      <th>zone</th>\n",
       "    </tr>\n",
       "  </thead>\n",
       "  <tbody>\n",
       "    <tr>\n",
       "      <th>0</th>\n",
       "      <td>62.0</td>\n",
       "      <td>30.0</td>\n",
       "      <td>1</td>\n",
       "      <td>1</td>\n",
       "      <td>15</td>\n",
       "      <td>1</td>\n",
       "      <td>Operations</td>\n",
       "      <td>1</td>\n",
       "      <td>East</td>\n",
       "    </tr>\n",
       "    <tr>\n",
       "      <th>1</th>\n",
       "      <td>77.0</td>\n",
       "      <td>45.0</td>\n",
       "      <td>1</td>\n",
       "      <td>1</td>\n",
       "      <td>15</td>\n",
       "      <td>1</td>\n",
       "      <td>DataBase</td>\n",
       "      <td>1</td>\n",
       "      <td>South</td>\n",
       "    </tr>\n",
       "    <tr>\n",
       "      <th>2</th>\n",
       "      <td>73.0</td>\n",
       "      <td>29.0</td>\n",
       "      <td>1</td>\n",
       "      <td>1</td>\n",
       "      <td>16</td>\n",
       "      <td>1</td>\n",
       "      <td>Operations</td>\n",
       "      <td>1</td>\n",
       "      <td>East</td>\n",
       "    </tr>\n",
       "    <tr>\n",
       "      <th>3</th>\n",
       "      <td>75.0</td>\n",
       "      <td>46.0</td>\n",
       "      <td>0</td>\n",
       "      <td>0</td>\n",
       "      <td>19</td>\n",
       "      <td>0</td>\n",
       "      <td>HumanResources</td>\n",
       "      <td>0</td>\n",
       "      <td>North</td>\n",
       "    </tr>\n",
       "    <tr>\n",
       "      <th>4</th>\n",
       "      <td>71.0</td>\n",
       "      <td>29.0</td>\n",
       "      <td>1</td>\n",
       "      <td>1</td>\n",
       "      <td>3</td>\n",
       "      <td>1</td>\n",
       "      <td>Finance</td>\n",
       "      <td>1</td>\n",
       "      <td>North</td>\n",
       "    </tr>\n",
       "  </tbody>\n",
       "</table>\n",
       "</div>"
      ],
      "text/plain": [
       "   engagement_score   age  marital_status  gender  experience  interested  \\\n",
       "0              62.0  30.0               1       1          15           1   \n",
       "1              77.0  45.0               1       1          15           1   \n",
       "2              73.0  29.0               1       1          16           1   \n",
       "3              75.0  46.0               0       0          19           0   \n",
       "4              71.0  29.0               1       1           3           1   \n",
       "\n",
       "       department  company_size   zone  \n",
       "0      Operations             1   East  \n",
       "1        DataBase             1  South  \n",
       "2      Operations             1   East  \n",
       "3  HumanResources             0  North  \n",
       "4         Finance             1  North  "
      ]
     },
     "execution_count": 47,
     "metadata": {},
     "output_type": "execute_result"
    }
   ],
   "source": [
    "df.head()"
   ]
  },
  {
   "cell_type": "code",
   "execution_count": 48,
   "metadata": {},
   "outputs": [],
   "source": [
    "df = pd.get_dummies(df)"
   ]
  },
  {
   "cell_type": "code",
   "execution_count": 49,
   "metadata": {},
   "outputs": [
    {
     "data": {
      "text/plain": [
       "(1196, 20)"
      ]
     },
     "execution_count": 49,
     "metadata": {},
     "output_type": "execute_result"
    }
   ],
   "source": [
    "df.shape"
   ]
  },
  {
   "cell_type": "markdown",
   "metadata": {},
   "source": [
    "### Applying SMOTE \n"
   ]
  },
  {
   "cell_type": "code",
   "execution_count": 50,
   "metadata": {},
   "outputs": [
    {
     "name": "stderr",
     "output_type": "stream",
     "text": [
      "c:\\users\\ananta arora\\appdata\\local\\programs\\python\\python37\\lib\\site-packages\\sklearn\\externals\\six.py:31: DeprecationWarning: The module is deprecated in version 0.21 and will be removed in version 0.23 since we've dropped support for Python 2.7. Please rely on the official version of six (https://pypi.org/project/six/).\n",
      "  \"(https://pypi.org/project/six/).\", DeprecationWarning)\n"
     ]
    }
   ],
   "source": [
    "from imblearn.over_sampling import SMOTE\n",
    "from sklearn.metrics import accuracy_score\n",
    "from sklearn.metrics import f1_score\n",
    "from sklearn.metrics import recall_score\n",
    "\n",
    "\n",
    "# Separate input features and target\n",
    "x = df.drop(\"interested\", axis=1)\n",
    "y = df[\"interested\"]\n",
    "\n",
    "# setting up testing and training sets\n",
    "x_train, x_test, y_train, y_test = train_test_split(x, y, test_size=0.25, random_state=27)\n",
    "\n",
    "sm = SMOTE(random_state=27, ratio=1.0)\n",
    "x_train, y_train = sm.fit_sample(x_train, y_train)"
   ]
  },
  {
   "cell_type": "code",
   "execution_count": 51,
   "metadata": {},
   "outputs": [],
   "source": [
    "smote = LogisticRegression(solver='liblinear').fit(x_train, y_train)\n",
    "\n",
    "smote_pred = smote.predict(x_test)\n"
   ]
  },
  {
   "cell_type": "code",
   "execution_count": 52,
   "metadata": {},
   "outputs": [
    {
     "data": {
      "text/plain": [
       "0.959866220735786"
      ]
     },
     "execution_count": 52,
     "metadata": {},
     "output_type": "execute_result"
    }
   ],
   "source": [
    "accuracy_score(y_test, smote_pred)"
   ]
  },
  {
   "cell_type": "code",
   "execution_count": 53,
   "metadata": {},
   "outputs": [
    {
     "data": {
      "text/plain": [
       "0.9702970297029702"
      ]
     },
     "execution_count": 53,
     "metadata": {},
     "output_type": "execute_result"
    }
   ],
   "source": [
    "# f1 score\n",
    "f1_score(y_test, smote_pred)\n",
    "    \n"
   ]
  },
  {
   "cell_type": "code",
   "execution_count": 54,
   "metadata": {},
   "outputs": [
    {
     "data": {
      "text/plain": [
       "0.9607843137254902"
      ]
     },
     "execution_count": 54,
     "metadata": {},
     "output_type": "execute_result"
    }
   ],
   "source": [
    "\n",
    "recall_score(y_test, smote_pred)"
   ]
  },
  {
   "cell_type": "markdown",
   "metadata": {},
   "source": [
    "### Without using SMOTE"
   ]
  },
  {
   "cell_type": "code",
   "execution_count": 55,
   "metadata": {},
   "outputs": [],
   "source": [
    "x = df.drop(\"interested\", axis=1)\n",
    "y = df[\"interested\"]\n"
   ]
  },
  {
   "cell_type": "code",
   "execution_count": 56,
   "metadata": {},
   "outputs": [
    {
     "data": {
      "text/plain": [
       "(1196, 19)"
      ]
     },
     "execution_count": 56,
     "metadata": {},
     "output_type": "execute_result"
    }
   ],
   "source": [
    "x.shape"
   ]
  },
  {
   "cell_type": "code",
   "execution_count": 57,
   "metadata": {},
   "outputs": [
    {
     "data": {
      "text/plain": [
       "(1196,)"
      ]
     },
     "execution_count": 57,
     "metadata": {},
     "output_type": "execute_result"
    }
   ],
   "source": [
    "y.shape"
   ]
  },
  {
   "cell_type": "code",
   "execution_count": 58,
   "metadata": {},
   "outputs": [],
   "source": [
    "from sklearn.model_selection import train_test_split"
   ]
  },
  {
   "cell_type": "code",
   "execution_count": 59,
   "metadata": {},
   "outputs": [
    {
     "data": {
      "text/html": [
       "<div>\n",
       "<style scoped>\n",
       "    .dataframe tbody tr th:only-of-type {\n",
       "        vertical-align: middle;\n",
       "    }\n",
       "\n",
       "    .dataframe tbody tr th {\n",
       "        vertical-align: top;\n",
       "    }\n",
       "\n",
       "    .dataframe thead th {\n",
       "        text-align: right;\n",
       "    }\n",
       "</style>\n",
       "<table border=\"1\" class=\"dataframe\">\n",
       "  <thead>\n",
       "    <tr style=\"text-align: right;\">\n",
       "      <th></th>\n",
       "      <th>engagement_score</th>\n",
       "      <th>age</th>\n",
       "      <th>marital_status</th>\n",
       "      <th>gender</th>\n",
       "      <th>experience</th>\n",
       "      <th>company_size</th>\n",
       "      <th>department_DataBase</th>\n",
       "      <th>department_Finance</th>\n",
       "      <th>department_HumanResources</th>\n",
       "      <th>department_IT</th>\n",
       "      <th>department_Marketing</th>\n",
       "      <th>department_Operations</th>\n",
       "      <th>department_Other</th>\n",
       "      <th>department_Research and Development</th>\n",
       "      <th>department_Sales</th>\n",
       "      <th>zone_East</th>\n",
       "      <th>zone_North</th>\n",
       "      <th>zone_South</th>\n",
       "      <th>zone_West</th>\n",
       "    </tr>\n",
       "  </thead>\n",
       "  <tbody>\n",
       "    <tr>\n",
       "      <th>992</th>\n",
       "      <td>54.0</td>\n",
       "      <td>24.0</td>\n",
       "      <td>1</td>\n",
       "      <td>1</td>\n",
       "      <td>6</td>\n",
       "      <td>1</td>\n",
       "      <td>0</td>\n",
       "      <td>0</td>\n",
       "      <td>0</td>\n",
       "      <td>0</td>\n",
       "      <td>0</td>\n",
       "      <td>0</td>\n",
       "      <td>1</td>\n",
       "      <td>0</td>\n",
       "      <td>0</td>\n",
       "      <td>0</td>\n",
       "      <td>0</td>\n",
       "      <td>1</td>\n",
       "      <td>0</td>\n",
       "    </tr>\n",
       "    <tr>\n",
       "      <th>203</th>\n",
       "      <td>85.0</td>\n",
       "      <td>28.0</td>\n",
       "      <td>1</td>\n",
       "      <td>1</td>\n",
       "      <td>2</td>\n",
       "      <td>1</td>\n",
       "      <td>0</td>\n",
       "      <td>0</td>\n",
       "      <td>0</td>\n",
       "      <td>0</td>\n",
       "      <td>0</td>\n",
       "      <td>0</td>\n",
       "      <td>0</td>\n",
       "      <td>1</td>\n",
       "      <td>0</td>\n",
       "      <td>0</td>\n",
       "      <td>1</td>\n",
       "      <td>0</td>\n",
       "      <td>0</td>\n",
       "    </tr>\n",
       "    <tr>\n",
       "      <th>1010</th>\n",
       "      <td>66.0</td>\n",
       "      <td>41.0</td>\n",
       "      <td>0</td>\n",
       "      <td>0</td>\n",
       "      <td>15</td>\n",
       "      <td>0</td>\n",
       "      <td>0</td>\n",
       "      <td>0</td>\n",
       "      <td>0</td>\n",
       "      <td>0</td>\n",
       "      <td>0</td>\n",
       "      <td>0</td>\n",
       "      <td>0</td>\n",
       "      <td>0</td>\n",
       "      <td>1</td>\n",
       "      <td>0</td>\n",
       "      <td>1</td>\n",
       "      <td>0</td>\n",
       "      <td>0</td>\n",
       "    </tr>\n",
       "    <tr>\n",
       "      <th>45</th>\n",
       "      <td>35.0</td>\n",
       "      <td>39.0</td>\n",
       "      <td>1</td>\n",
       "      <td>0</td>\n",
       "      <td>11</td>\n",
       "      <td>1</td>\n",
       "      <td>0</td>\n",
       "      <td>0</td>\n",
       "      <td>1</td>\n",
       "      <td>0</td>\n",
       "      <td>0</td>\n",
       "      <td>0</td>\n",
       "      <td>0</td>\n",
       "      <td>0</td>\n",
       "      <td>0</td>\n",
       "      <td>0</td>\n",
       "      <td>1</td>\n",
       "      <td>0</td>\n",
       "      <td>0</td>\n",
       "    </tr>\n",
       "    <tr>\n",
       "      <th>755</th>\n",
       "      <td>55.0</td>\n",
       "      <td>52.0</td>\n",
       "      <td>0</td>\n",
       "      <td>0</td>\n",
       "      <td>19</td>\n",
       "      <td>0</td>\n",
       "      <td>0</td>\n",
       "      <td>0</td>\n",
       "      <td>1</td>\n",
       "      <td>0</td>\n",
       "      <td>0</td>\n",
       "      <td>0</td>\n",
       "      <td>0</td>\n",
       "      <td>0</td>\n",
       "      <td>0</td>\n",
       "      <td>0</td>\n",
       "      <td>1</td>\n",
       "      <td>0</td>\n",
       "      <td>0</td>\n",
       "    </tr>\n",
       "  </tbody>\n",
       "</table>\n",
       "</div>"
      ],
      "text/plain": [
       "      engagement_score   age  marital_status  gender  experience  \\\n",
       "992               54.0  24.0               1       1           6   \n",
       "203               85.0  28.0               1       1           2   \n",
       "1010              66.0  41.0               0       0          15   \n",
       "45                35.0  39.0               1       0          11   \n",
       "755               55.0  52.0               0       0          19   \n",
       "\n",
       "      company_size  department_DataBase  department_Finance  \\\n",
       "992              1                    0                   0   \n",
       "203              1                    0                   0   \n",
       "1010             0                    0                   0   \n",
       "45               1                    0                   0   \n",
       "755              0                    0                   0   \n",
       "\n",
       "      department_HumanResources  department_IT  department_Marketing  \\\n",
       "992                           0              0                     0   \n",
       "203                           0              0                     0   \n",
       "1010                          0              0                     0   \n",
       "45                            1              0                     0   \n",
       "755                           1              0                     0   \n",
       "\n",
       "      department_Operations  department_Other  \\\n",
       "992                       0                 1   \n",
       "203                       0                 0   \n",
       "1010                      0                 0   \n",
       "45                        0                 0   \n",
       "755                       0                 0   \n",
       "\n",
       "      department_Research and Development  department_Sales  zone_East  \\\n",
       "992                                     0                 0          0   \n",
       "203                                     1                 0          0   \n",
       "1010                                    0                 1          0   \n",
       "45                                      0                 0          0   \n",
       "755                                     0                 0          0   \n",
       "\n",
       "      zone_North  zone_South  zone_West  \n",
       "992            0           1          0  \n",
       "203            1           0          0  \n",
       "1010           1           0          0  \n",
       "45             1           0          0  \n",
       "755            1           0          0  "
      ]
     },
     "execution_count": 59,
     "metadata": {},
     "output_type": "execute_result"
    }
   ],
   "source": [
    "x_train,x_test,y_train,y_test=train_test_split(x,y,test_size=0.3)\n",
    "x_train.head()"
   ]
  },
  {
   "cell_type": "code",
   "execution_count": 60,
   "metadata": {},
   "outputs": [
    {
     "name": "stderr",
     "output_type": "stream",
     "text": [
      "c:\\users\\ananta arora\\appdata\\local\\programs\\python\\python37\\lib\\site-packages\\sklearn\\linear_model\\logistic.py:432: FutureWarning: Default solver will be changed to 'lbfgs' in 0.22. Specify a solver to silence this warning.\n",
      "  FutureWarning)\n"
     ]
    },
    {
     "data": {
      "text/plain": [
       "94.38"
      ]
     },
     "execution_count": 60,
     "metadata": {},
     "output_type": "execute_result"
    }
   ],
   "source": [
    "# Logistic Regression\n",
    "\n",
    "logreg = LogisticRegression()\n",
    "logreg.fit(x_train, y_train)\n",
    "\n",
    "y_pred = logreg.predict(x_test)\n",
    "\n",
    "acc_log = round(logreg.score(x_train, y_train) * 100, 2)\n",
    "\n",
    "acc_log"
   ]
  },
  {
   "cell_type": "code",
   "execution_count": 61,
   "metadata": {},
   "outputs": [
    {
     "name": "stderr",
     "output_type": "stream",
     "text": [
      "c:\\users\\ananta arora\\appdata\\local\\programs\\python\\python37\\lib\\site-packages\\sklearn\\svm\\base.py:193: FutureWarning: The default value of gamma will change from 'auto' to 'scale' in version 0.22 to account better for unscaled features. Set gamma explicitly to 'auto' or 'scale' to avoid this warning.\n",
      "  \"avoid this warning.\", FutureWarning)\n"
     ]
    },
    {
     "data": {
      "text/plain": [
       "94.98"
      ]
     },
     "execution_count": 61,
     "metadata": {},
     "output_type": "execute_result"
    }
   ],
   "source": [
    "# Support Vector Machines\n",
    "\n",
    "svc = SVC()\n",
    "svc.fit(x_train, y_train)\n",
    "y_pred = svc.predict(x_test)\n",
    "acc_svc = round(svc.score(x_train, y_train) * 100, 2)\n",
    "acc_svc"
   ]
  },
  {
   "cell_type": "code",
   "execution_count": 62,
   "metadata": {},
   "outputs": [
    {
     "data": {
      "text/plain": [
       "89.96"
      ]
     },
     "execution_count": 62,
     "metadata": {},
     "output_type": "execute_result"
    }
   ],
   "source": [
    " # KNN\n",
    "\n",
    "knn = KNeighborsClassifier(n_neighbors = 3)\n",
    "knn.fit(x_train, y_train)\n",
    "y_pred = knn.predict(x_test)\n",
    "acc_knn = round(knn.score(x_train, y_train) * 100, 2)\n",
    "acc_knn"
   ]
  },
  {
   "cell_type": "code",
   "execution_count": 63,
   "metadata": {},
   "outputs": [
    {
     "data": {
      "text/plain": [
       "79.09"
      ]
     },
     "execution_count": 63,
     "metadata": {},
     "output_type": "execute_result"
    }
   ],
   "source": [
    "# Perceptron\n",
    "\n",
    "perceptron = Perceptron()\n",
    "perceptron.fit(x_train, y_train)\n",
    "y_pred = perceptron.predict(x_test)\n",
    "acc_perceptron = round(perceptron.score(x_train, y_train) * 100, 2)\n",
    "acc_perceptron"
   ]
  },
  {
   "cell_type": "code",
   "execution_count": 64,
   "metadata": {},
   "outputs": [
    {
     "data": {
      "text/html": [
       "<div>\n",
       "<style scoped>\n",
       "    .dataframe tbody tr th:only-of-type {\n",
       "        vertical-align: middle;\n",
       "    }\n",
       "\n",
       "    .dataframe tbody tr th {\n",
       "        vertical-align: top;\n",
       "    }\n",
       "\n",
       "    .dataframe thead th {\n",
       "        text-align: right;\n",
       "    }\n",
       "</style>\n",
       "<table border=\"1\" class=\"dataframe\">\n",
       "  <thead>\n",
       "    <tr style=\"text-align: right;\">\n",
       "      <th></th>\n",
       "      <th>engagement_score</th>\n",
       "      <th>age</th>\n",
       "      <th>marital_status</th>\n",
       "      <th>gender</th>\n",
       "      <th>experience</th>\n",
       "      <th>company_size</th>\n",
       "      <th>department_DataBase</th>\n",
       "      <th>department_Finance</th>\n",
       "      <th>department_HumanResources</th>\n",
       "      <th>department_IT</th>\n",
       "      <th>department_Marketing</th>\n",
       "      <th>department_Operations</th>\n",
       "      <th>department_Other</th>\n",
       "      <th>department_Research and Development</th>\n",
       "      <th>department_Sales</th>\n",
       "      <th>zone_East</th>\n",
       "      <th>zone_North</th>\n",
       "      <th>zone_South</th>\n",
       "      <th>zone_West</th>\n",
       "    </tr>\n",
       "  </thead>\n",
       "  <tbody>\n",
       "    <tr>\n",
       "      <th>992</th>\n",
       "      <td>54.0</td>\n",
       "      <td>24.0</td>\n",
       "      <td>1</td>\n",
       "      <td>1</td>\n",
       "      <td>6</td>\n",
       "      <td>1</td>\n",
       "      <td>0</td>\n",
       "      <td>0</td>\n",
       "      <td>0</td>\n",
       "      <td>0</td>\n",
       "      <td>0</td>\n",
       "      <td>0</td>\n",
       "      <td>1</td>\n",
       "      <td>0</td>\n",
       "      <td>0</td>\n",
       "      <td>0</td>\n",
       "      <td>0</td>\n",
       "      <td>1</td>\n",
       "      <td>0</td>\n",
       "    </tr>\n",
       "    <tr>\n",
       "      <th>203</th>\n",
       "      <td>85.0</td>\n",
       "      <td>28.0</td>\n",
       "      <td>1</td>\n",
       "      <td>1</td>\n",
       "      <td>2</td>\n",
       "      <td>1</td>\n",
       "      <td>0</td>\n",
       "      <td>0</td>\n",
       "      <td>0</td>\n",
       "      <td>0</td>\n",
       "      <td>0</td>\n",
       "      <td>0</td>\n",
       "      <td>0</td>\n",
       "      <td>1</td>\n",
       "      <td>0</td>\n",
       "      <td>0</td>\n",
       "      <td>1</td>\n",
       "      <td>0</td>\n",
       "      <td>0</td>\n",
       "    </tr>\n",
       "    <tr>\n",
       "      <th>1010</th>\n",
       "      <td>66.0</td>\n",
       "      <td>41.0</td>\n",
       "      <td>0</td>\n",
       "      <td>0</td>\n",
       "      <td>15</td>\n",
       "      <td>0</td>\n",
       "      <td>0</td>\n",
       "      <td>0</td>\n",
       "      <td>0</td>\n",
       "      <td>0</td>\n",
       "      <td>0</td>\n",
       "      <td>0</td>\n",
       "      <td>0</td>\n",
       "      <td>0</td>\n",
       "      <td>1</td>\n",
       "      <td>0</td>\n",
       "      <td>1</td>\n",
       "      <td>0</td>\n",
       "      <td>0</td>\n",
       "    </tr>\n",
       "    <tr>\n",
       "      <th>45</th>\n",
       "      <td>35.0</td>\n",
       "      <td>39.0</td>\n",
       "      <td>1</td>\n",
       "      <td>0</td>\n",
       "      <td>11</td>\n",
       "      <td>1</td>\n",
       "      <td>0</td>\n",
       "      <td>0</td>\n",
       "      <td>1</td>\n",
       "      <td>0</td>\n",
       "      <td>0</td>\n",
       "      <td>0</td>\n",
       "      <td>0</td>\n",
       "      <td>0</td>\n",
       "      <td>0</td>\n",
       "      <td>0</td>\n",
       "      <td>1</td>\n",
       "      <td>0</td>\n",
       "      <td>0</td>\n",
       "    </tr>\n",
       "    <tr>\n",
       "      <th>755</th>\n",
       "      <td>55.0</td>\n",
       "      <td>52.0</td>\n",
       "      <td>0</td>\n",
       "      <td>0</td>\n",
       "      <td>19</td>\n",
       "      <td>0</td>\n",
       "      <td>0</td>\n",
       "      <td>0</td>\n",
       "      <td>1</td>\n",
       "      <td>0</td>\n",
       "      <td>0</td>\n",
       "      <td>0</td>\n",
       "      <td>0</td>\n",
       "      <td>0</td>\n",
       "      <td>0</td>\n",
       "      <td>0</td>\n",
       "      <td>1</td>\n",
       "      <td>0</td>\n",
       "      <td>0</td>\n",
       "    </tr>\n",
       "  </tbody>\n",
       "</table>\n",
       "</div>"
      ],
      "text/plain": [
       "      engagement_score   age  marital_status  gender  experience  \\\n",
       "992               54.0  24.0               1       1           6   \n",
       "203               85.0  28.0               1       1           2   \n",
       "1010              66.0  41.0               0       0          15   \n",
       "45                35.0  39.0               1       0          11   \n",
       "755               55.0  52.0               0       0          19   \n",
       "\n",
       "      company_size  department_DataBase  department_Finance  \\\n",
       "992              1                    0                   0   \n",
       "203              1                    0                   0   \n",
       "1010             0                    0                   0   \n",
       "45               1                    0                   0   \n",
       "755              0                    0                   0   \n",
       "\n",
       "      department_HumanResources  department_IT  department_Marketing  \\\n",
       "992                           0              0                     0   \n",
       "203                           0              0                     0   \n",
       "1010                          0              0                     0   \n",
       "45                            1              0                     0   \n",
       "755                           1              0                     0   \n",
       "\n",
       "      department_Operations  department_Other  \\\n",
       "992                       0                 1   \n",
       "203                       0                 0   \n",
       "1010                      0                 0   \n",
       "45                        0                 0   \n",
       "755                       0                 0   \n",
       "\n",
       "      department_Research and Development  department_Sales  zone_East  \\\n",
       "992                                     0                 0          0   \n",
       "203                                     1                 0          0   \n",
       "1010                                    0                 1          0   \n",
       "45                                      0                 0          0   \n",
       "755                                     0                 0          0   \n",
       "\n",
       "      zone_North  zone_South  zone_West  \n",
       "992            0           1          0  \n",
       "203            1           0          0  \n",
       "1010           1           0          0  \n",
       "45             1           0          0  \n",
       "755            1           0          0  "
      ]
     },
     "execution_count": 64,
     "metadata": {},
     "output_type": "execute_result"
    }
   ],
   "source": [
    "x_train.head()"
   ]
  },
  {
   "cell_type": "code",
   "execution_count": 65,
   "metadata": {},
   "outputs": [
    {
     "data": {
      "text/plain": [
       "87.81"
      ]
     },
     "execution_count": 65,
     "metadata": {},
     "output_type": "execute_result"
    }
   ],
   "source": [
    "# Decision Tree\n",
    "\n",
    "decision_tree = DecisionTreeClassifier(max_depth = 2)\n",
    "decision_tree.fit(x_train, y_train)\n",
    "y_pred = decision_tree.predict(x_test)\n",
    "acc_decision_tree = round(decision_tree.score(x_train, y_train) * 100, 2)\n",
    "acc_decision_tree"
   ]
  },
  {
   "cell_type": "code",
   "execution_count": 66,
   "metadata": {},
   "outputs": [
    {
     "data": {
      "text/plain": [
       "97.85"
      ]
     },
     "execution_count": 66,
     "metadata": {},
     "output_type": "execute_result"
    }
   ],
   "source": [
    "# Random Forest\n",
    "\n",
    "random_forest = RandomForestClassifier(n_estimators=1, class_weight='balanced')\n",
    "random_forest.fit(x_train, y_train)\n",
    "y_pred = random_forest.predict(x_test)\n",
    "random_forest.score(x_train, y_train)\n",
    "acc_random_forest = round(random_forest.score(x_train, y_train) * 100, 2)\n",
    "acc_random_forest"
   ]
  },
  {
   "cell_type": "code",
   "execution_count": 67,
   "metadata": {},
   "outputs": [
    {
     "data": {
      "text/html": [
       "<div>\n",
       "<style scoped>\n",
       "    .dataframe tbody tr th:only-of-type {\n",
       "        vertical-align: middle;\n",
       "    }\n",
       "\n",
       "    .dataframe tbody tr th {\n",
       "        vertical-align: top;\n",
       "    }\n",
       "\n",
       "    .dataframe thead th {\n",
       "        text-align: right;\n",
       "    }\n",
       "</style>\n",
       "<table border=\"1\" class=\"dataframe\">\n",
       "  <thead>\n",
       "    <tr style=\"text-align: right;\">\n",
       "      <th></th>\n",
       "      <th>engagement_score</th>\n",
       "      <th>age</th>\n",
       "      <th>marital_status</th>\n",
       "      <th>gender</th>\n",
       "      <th>experience</th>\n",
       "      <th>company_size</th>\n",
       "      <th>department_DataBase</th>\n",
       "      <th>department_Finance</th>\n",
       "      <th>department_HumanResources</th>\n",
       "      <th>department_IT</th>\n",
       "      <th>department_Marketing</th>\n",
       "      <th>department_Operations</th>\n",
       "      <th>department_Other</th>\n",
       "      <th>department_Research and Development</th>\n",
       "      <th>department_Sales</th>\n",
       "      <th>zone_East</th>\n",
       "      <th>zone_North</th>\n",
       "      <th>zone_South</th>\n",
       "      <th>zone_West</th>\n",
       "    </tr>\n",
       "  </thead>\n",
       "  <tbody>\n",
       "    <tr>\n",
       "      <th>603</th>\n",
       "      <td>45.0</td>\n",
       "      <td>38.0</td>\n",
       "      <td>0</td>\n",
       "      <td>0</td>\n",
       "      <td>5</td>\n",
       "      <td>0</td>\n",
       "      <td>0</td>\n",
       "      <td>0</td>\n",
       "      <td>0</td>\n",
       "      <td>0</td>\n",
       "      <td>0</td>\n",
       "      <td>0</td>\n",
       "      <td>1</td>\n",
       "      <td>0</td>\n",
       "      <td>0</td>\n",
       "      <td>0</td>\n",
       "      <td>0</td>\n",
       "      <td>1</td>\n",
       "      <td>0</td>\n",
       "    </tr>\n",
       "    <tr>\n",
       "      <th>1033</th>\n",
       "      <td>35.0</td>\n",
       "      <td>22.0</td>\n",
       "      <td>1</td>\n",
       "      <td>1</td>\n",
       "      <td>17</td>\n",
       "      <td>0</td>\n",
       "      <td>0</td>\n",
       "      <td>0</td>\n",
       "      <td>0</td>\n",
       "      <td>0</td>\n",
       "      <td>0</td>\n",
       "      <td>0</td>\n",
       "      <td>0</td>\n",
       "      <td>0</td>\n",
       "      <td>1</td>\n",
       "      <td>0</td>\n",
       "      <td>0</td>\n",
       "      <td>1</td>\n",
       "      <td>0</td>\n",
       "    </tr>\n",
       "    <tr>\n",
       "      <th>572</th>\n",
       "      <td>72.0</td>\n",
       "      <td>31.0</td>\n",
       "      <td>0</td>\n",
       "      <td>0</td>\n",
       "      <td>18</td>\n",
       "      <td>0</td>\n",
       "      <td>0</td>\n",
       "      <td>0</td>\n",
       "      <td>0</td>\n",
       "      <td>0</td>\n",
       "      <td>0</td>\n",
       "      <td>1</td>\n",
       "      <td>0</td>\n",
       "      <td>0</td>\n",
       "      <td>0</td>\n",
       "      <td>1</td>\n",
       "      <td>0</td>\n",
       "      <td>0</td>\n",
       "      <td>0</td>\n",
       "    </tr>\n",
       "    <tr>\n",
       "      <th>43</th>\n",
       "      <td>91.0</td>\n",
       "      <td>29.0</td>\n",
       "      <td>1</td>\n",
       "      <td>1</td>\n",
       "      <td>2</td>\n",
       "      <td>1</td>\n",
       "      <td>0</td>\n",
       "      <td>0</td>\n",
       "      <td>0</td>\n",
       "      <td>0</td>\n",
       "      <td>0</td>\n",
       "      <td>0</td>\n",
       "      <td>0</td>\n",
       "      <td>1</td>\n",
       "      <td>0</td>\n",
       "      <td>0</td>\n",
       "      <td>1</td>\n",
       "      <td>0</td>\n",
       "      <td>0</td>\n",
       "    </tr>\n",
       "    <tr>\n",
       "      <th>1114</th>\n",
       "      <td>81.0</td>\n",
       "      <td>28.0</td>\n",
       "      <td>1</td>\n",
       "      <td>1</td>\n",
       "      <td>1</td>\n",
       "      <td>1</td>\n",
       "      <td>0</td>\n",
       "      <td>0</td>\n",
       "      <td>0</td>\n",
       "      <td>0</td>\n",
       "      <td>0</td>\n",
       "      <td>0</td>\n",
       "      <td>1</td>\n",
       "      <td>0</td>\n",
       "      <td>0</td>\n",
       "      <td>0</td>\n",
       "      <td>0</td>\n",
       "      <td>1</td>\n",
       "      <td>0</td>\n",
       "    </tr>\n",
       "  </tbody>\n",
       "</table>\n",
       "</div>"
      ],
      "text/plain": [
       "      engagement_score   age  marital_status  gender  experience  \\\n",
       "603               45.0  38.0               0       0           5   \n",
       "1033              35.0  22.0               1       1          17   \n",
       "572               72.0  31.0               0       0          18   \n",
       "43                91.0  29.0               1       1           2   \n",
       "1114              81.0  28.0               1       1           1   \n",
       "\n",
       "      company_size  department_DataBase  department_Finance  \\\n",
       "603              0                    0                   0   \n",
       "1033             0                    0                   0   \n",
       "572              0                    0                   0   \n",
       "43               1                    0                   0   \n",
       "1114             1                    0                   0   \n",
       "\n",
       "      department_HumanResources  department_IT  department_Marketing  \\\n",
       "603                           0              0                     0   \n",
       "1033                          0              0                     0   \n",
       "572                           0              0                     0   \n",
       "43                            0              0                     0   \n",
       "1114                          0              0                     0   \n",
       "\n",
       "      department_Operations  department_Other  \\\n",
       "603                       0                 1   \n",
       "1033                      0                 0   \n",
       "572                       1                 0   \n",
       "43                        0                 0   \n",
       "1114                      0                 1   \n",
       "\n",
       "      department_Research and Development  department_Sales  zone_East  \\\n",
       "603                                     0                 0          0   \n",
       "1033                                    0                 1          0   \n",
       "572                                     0                 0          1   \n",
       "43                                      1                 0          0   \n",
       "1114                                    0                 0          0   \n",
       "\n",
       "      zone_North  zone_South  zone_West  \n",
       "603            0           1          0  \n",
       "1033           0           1          0  \n",
       "572            0           0          0  \n",
       "43             1           0          0  \n",
       "1114           0           1          0  "
      ]
     },
     "execution_count": 67,
     "metadata": {},
     "output_type": "execute_result"
    }
   ],
   "source": [
    "x_test.head()"
   ]
  },
  {
   "cell_type": "code",
   "execution_count": 68,
   "metadata": {},
   "outputs": [
    {
     "data": {
      "text/html": [
       "<div>\n",
       "<style scoped>\n",
       "    .dataframe tbody tr th:only-of-type {\n",
       "        vertical-align: middle;\n",
       "    }\n",
       "\n",
       "    .dataframe tbody tr th {\n",
       "        vertical-align: top;\n",
       "    }\n",
       "\n",
       "    .dataframe thead th {\n",
       "        text-align: right;\n",
       "    }\n",
       "</style>\n",
       "<table border=\"1\" class=\"dataframe\">\n",
       "  <thead>\n",
       "    <tr style=\"text-align: right;\">\n",
       "      <th></th>\n",
       "      <th>engagement_score</th>\n",
       "      <th>company</th>\n",
       "      <th>age</th>\n",
       "      <th>marital_status</th>\n",
       "      <th>gender</th>\n",
       "      <th>experience</th>\n",
       "      <th>department</th>\n",
       "      <th>city</th>\n",
       "    </tr>\n",
       "  </thead>\n",
       "  <tbody>\n",
       "    <tr>\n",
       "      <th>0</th>\n",
       "      <td>60</td>\n",
       "      <td>Google</td>\n",
       "      <td>34</td>\n",
       "      <td>Single</td>\n",
       "      <td>Female</td>\n",
       "      <td>6</td>\n",
       "      <td>IT</td>\n",
       "      <td>Hyderabad</td>\n",
       "    </tr>\n",
       "  </tbody>\n",
       "</table>\n",
       "</div>"
      ],
      "text/plain": [
       "   engagement_score company  age marital_status  gender  experience  \\\n",
       "0                60  Google   34         Single  Female           6   \n",
       "\n",
       "  department       city  \n",
       "0         IT  Hyderabad  "
      ]
     },
     "execution_count": 68,
     "metadata": {},
     "output_type": "execute_result"
    }
   ],
   "source": [
    "di_df = pd.DataFrame({'engagement_score':[60], 'company':['Google'], 'age':[34], 'marital_status':['Single'], 'gender':['Female'],\n",
    "      'experience':[6], 'department':['IT'], 'city':['Hyderabad']})\n",
    "\n",
    "di_df"
   ]
  },
  {
   "cell_type": "code",
   "execution_count": 69,
   "metadata": {},
   "outputs": [],
   "source": [
    "Mnc =  ['Google','Microsoft','TCS','CTS','Wipro','Tech Mahindra','Infosys','Accenture','HCL','Deloitte','IBM','Amazon','CapGemini','Genpact']\n",
    "\n",
    "small_companies = ['VeServ','Eclature Technologies','Harini Informatics','Info Edge Solutions',\\\n",
    "                'Hi Caliber IT Solutions','Brio Technologies Private Limited','I2Space Technologies', \\\n",
    "                   'Jaro Education','Omniscient IT Solutions Pvt Ltd','Esalemedia','Askmeguru',\\\n",
    "                   'Metacube Software Pvt. Ltd','Accuracy','Mindtree','IntelloLabs','Intelex Systems'\\\n",
    "                   ,'Sopra Steria','IBrand Solutions','Team Embedded','Cravaka Info Systems','Brihaspathi Technologies'\\\n",
    "                  'MBR Informatics','Impecsoft Solutions','Innvectra Softech','Yana Software Private Limited'\\\n",
    "                  'Olympiasoft','Techno Brain Ltd','Software Solutions','EON Technologies','Rapidsoft Technologies Pvt Ltd',\\\n",
    "                  'Toshiba Software India Pvt ltd', 'Embassy IT Solutions']\n",
    "small_companies2 =  ['Gayatri Software Services Pvt Ltd','Sonata Software Limited', 'Deforay Technologies Pvt. Ltd',\\\n",
    "                     'ZOVIL TECHNOLOGIES', 'Aspire Software Solutions','Pramati Technologies','Hakuna Matata Solutions',\\\n",
    "                     'Prodapt Solutions Pvt Ltd','I S INFOTECH PVT LTD','Gislen Software','OG Software Solutions India Pvt Ltd',\\\n",
    "                     'CA Technologies','Infotech Enterprises','Persistent Systems','Mahindra Satyam']\n",
    "\n",
    "small = small_companies + small_companies2\n",
    "\n",
    "#----------------------------------------------------------------\n",
    "\n",
    "South = ['Bangalore','Mysore','Chennai','Pondicherry',\\\n",
    "         'Madurai','kochi', 'Coimbatore','Hyderabad',' Thiruvananthapuram']\n",
    "\n",
    "North = ['Delhi','Gurgaon',\\\n",
    "         'Faridabad','Lucknow','Meerut','Chandigarh','Srinagar',\\\n",
    "         'Ludhiana','kanpur','Varanasi','Amritsar','Aligarh','Jalandhar',\\\n",
    "         'Ghaziabad','Moradabad','Bareilly','Agra','Gwalior',\\\n",
    "         'Jabalpur','Jodhpur','Kota','Srinagar','Patna','Bhopal','Indore']\n",
    "\n",
    "East = ['Patna','Allahabad','Darjeeling',\\\n",
    "        'Bhubaneshwar','Gangtok','Kohima','Tezpur','Dhubri',\\\n",
    "        'Tinsukia','Nagaon','Jorhat','Silchar','Imphal','Aizwal',\\\n",
    "        'Shillong','Dimapur','Guwuhati','Agartala']\n",
    "\n",
    "West = ['Ahemdabad','Goa','Bhopal','Aurangabad',\\\n",
    "        'Lonavala','Mahabaleshwar','Mumbai','Nagpur','Nasik',\\\n",
    "        'Surat','Solapur','Thane','Pachmarhi','Rajkot','Satara']\n",
    "\n",
    "\n",
    "#----------------------------------------------------------------------\n",
    "\n",
    "df_predict = pd.DataFrame(np.zeros(19).reshape(-1,19),columns = ['engagement_score', 'age', 'marital_status', 'gender', 'experience',\n",
    "       'company_size', 'department_DataBase', 'department_Finance',\n",
    "       'department_HumanResources', 'department_IT', 'department_Marketing',\n",
    "       'department_Operations', 'department_Other',\n",
    "       'department_Research and Development', 'department_Sales', 'zone_East',\n",
    "       'zone_North', 'zone_South', 'zone_West'] )\n",
    "\n",
    "df_predict.engagement_score = di_df.engagement_score[0]\n",
    "df_predict.age = di_df.age[0]\n",
    "\n",
    "if di_df.marital_status[0] == 'Single':\n",
    "    df_predict.marital_status = 1\n",
    "else:\n",
    "    df_predict.marital_status = 0\n",
    "    \n",
    "    \n",
    "if di_df.gender[0] == 'Male':\n",
    "    df_predict.gender = 1\n",
    "else:\n",
    "    df_predict.gender = 0\n",
    "    \n",
    "df_predict.experience = di_df.experience[0]\n",
    "\n",
    "if di_df.company[0] in Mnc:\n",
    "    df_predict.company_size = 1\n",
    "else:\n",
    "    df_predict.comapny_size = 0\n",
    "\n",
    "\n",
    "if di_df.department[0] == 'DataBase':\n",
    "    df_predict.department_DataBase = 1\n",
    "    df_predict.department_Finance = 0\n",
    "    df_predict.department_HumanResources = 0\n",
    "    df_predict.department_IT = 0\n",
    "    df_predict.department_Marketing = 0\n",
    "    df_predict.department_Operations = 0\n",
    "    df_predict.department_Other = 0\n",
    "    df_predict.department_Sales = 0\n",
    "    df_predict['department_Research and Development'] = 0\n",
    "    \n",
    "elif di_df.department[0] == 'Finance':\n",
    "    df_predict.department_DataBase = 0\n",
    "    df_predict.department_Finance = 1\n",
    "    df_predict.department_HumanResources = 0\n",
    "    df_predict.department_IT = 0\n",
    "    df_predict.department_Marketing = 0\n",
    "    df_predict.department_Operations = 0\n",
    "    df_predict.department_Other = 0\n",
    "    df_predict.department_Sales = 0\n",
    "    df_predict['department_Research and Development'] = 0\n",
    "    \n",
    "elif di_df.department[0] == 'HumanResources':\n",
    "    df_predict.department_DataBase = 0\n",
    "    df_predict.department_Finance = 0\n",
    "    df_predict.department_HumanResources = 1\n",
    "    df_predict.department_IT = 0\n",
    "    df_predict.department_Marketing = 0\n",
    "    df_predict.department_Operations = 0\n",
    "    df_predict.department_Other = 0\n",
    "    df_predict.department_Sales = 0\n",
    "    df_predict['department_Research and Development'] = 0\n",
    "    \n",
    "    \n",
    "elif di_df.department[0] == 'IT':\n",
    "    df_predict.department_DataBase = 0\n",
    "    df_predict.department_Finance = 0\n",
    "    df_predict.department_HumanResources = 0\n",
    "    df_predict.department_IT = 1\n",
    "    df_predict.department_Marketing = 0\n",
    "    df_predict.department_Operations = 0\n",
    "    df_predict.department_Other = 0\n",
    "    df_predict.department_Sales = 0\n",
    "    df_predict['department_Research and Development'] = 0\n",
    "    \n",
    "elif di_df.department[0] == 'Marketing':\n",
    "    df_predict.department_DataBase = 0\n",
    "    df_predict.department_Finance = 0\n",
    "    df_predict.department_HumanResources = 0\n",
    "    df_predict.department_IT = 0\n",
    "    df_predict.department_Marketing = 1\n",
    "    df_predict.department_Operations = 0\n",
    "    df_predict.department_Other = 0\n",
    "    df_predict.department_Sales = 0\n",
    "    df_predict['department_Research and Development'] = 0\n",
    "    \n",
    "elif di_df.department[0] == 'Operations':\n",
    "    df_predict.department_DataBase = 0\n",
    "    df_predict.department_Finance = 0\n",
    "    df_predict.department_HumanResources = 0\n",
    "    df_predict.department_IT = 0\n",
    "    df_predict.department_Marketing = 0\n",
    "    df_predict.department_Operations = 1\n",
    "    df_predict.department_Other = 0\n",
    "    df_predict.department_Sales = 0\n",
    "    df_predict['department_Research and Development'] = 0\n",
    "    \n",
    "elif di_df.department[0] == 'Other':\n",
    "    df_predict.department_DataBase = 0\n",
    "    df_predict.department_Finance = 0\n",
    "    df_predict.department_HumanResources = 0\n",
    "    df_predict.department_IT = 0\n",
    "    df_predict.department_Marketing = 0\n",
    "    df_predict.department_Operations = 0\n",
    "    df_predict.department_Other = 1\n",
    "    df_predict.department_Sales = 0\n",
    "    df_predict['department_Research and Development'] = 0\n",
    "    \n",
    "elif di_df.department[0] == 'Sales':\n",
    "    df_predict.department_DataBase = 0\n",
    "    df_predict.department_Finance = 0\n",
    "    df_predict.department_HumanResources = 0\n",
    "    df_predict.department_IT = 0\n",
    "    df_predict.department_Marketing = 0\n",
    "    df_predict.department_Operations = 0\n",
    "    df_predict.department_Other = 0\n",
    "    df_predict.department_Sales = 1\n",
    "    df_predict['department_Research and Development'] = 0\n",
    "    \n",
    "elif di_df.department[0] == 'Research and Development':\n",
    "    df_predict.department_DataBase = 0\n",
    "    df_predict.department_Finance = 0\n",
    "    df_predict.department_HumanResources = 0\n",
    "    df_predict.department_IT = 0\n",
    "    df_predict.department_Marketing = 0\n",
    "    df_predict.department_Operations = 0\n",
    "    df_predict.department_Other = 0\n",
    "    df_predict.department_Sales = 0\n",
    "    df_predict['department_Research and Development'] = 1\n",
    "    \n",
    "if di_df.city[0] in South:\n",
    "    df_predict.zone_South = 1\n",
    "    df_predict.zone_East = 0\n",
    "    df_predict.zone_North = 0\n",
    "    df_predict.zone_West = 0\n",
    "    \n",
    "elif di_df.city[0] in East:\n",
    "    df_predict.zone_South = 0\n",
    "    df_predict.zone_East = 1\n",
    "    df_predict.zone_North = 0\n",
    "    df_predict.zone_West = 0\n",
    "    \n",
    "elif di_df.city[0] in North:\n",
    "    df_predict.zone_South = 0\n",
    "    df_predict.zone_East = 0\n",
    "    df_predict.zone_North = 1\n",
    "    df_predict.zone_West = 0\n",
    "    \n",
    "elif di_df.city[0] in West:\n",
    "    df_predict.zone_South = 0\n",
    "    df_predict.zone_East = 0\n",
    "    df_predict.zone_North = 0\n",
    "    df_predict.zone_West = 1\n",
    "else:\n",
    "    df_predict.zone_South = 1\n",
    "    df_predict.zone_East = 0\n",
    "    df_predict.zone_North = 0\n",
    "    df_predict.zone_West = 0"
   ]
  },
  {
   "cell_type": "code",
   "execution_count": 70,
   "metadata": {},
   "outputs": [
    {
     "data": {
      "text/html": [
       "<div>\n",
       "<style scoped>\n",
       "    .dataframe tbody tr th:only-of-type {\n",
       "        vertical-align: middle;\n",
       "    }\n",
       "\n",
       "    .dataframe tbody tr th {\n",
       "        vertical-align: top;\n",
       "    }\n",
       "\n",
       "    .dataframe thead th {\n",
       "        text-align: right;\n",
       "    }\n",
       "</style>\n",
       "<table border=\"1\" class=\"dataframe\">\n",
       "  <thead>\n",
       "    <tr style=\"text-align: right;\">\n",
       "      <th></th>\n",
       "      <th>engagement_score</th>\n",
       "      <th>age</th>\n",
       "      <th>marital_status</th>\n",
       "      <th>gender</th>\n",
       "      <th>experience</th>\n",
       "      <th>company_size</th>\n",
       "      <th>department_DataBase</th>\n",
       "      <th>department_Finance</th>\n",
       "      <th>department_HumanResources</th>\n",
       "      <th>department_IT</th>\n",
       "      <th>department_Marketing</th>\n",
       "      <th>department_Operations</th>\n",
       "      <th>department_Other</th>\n",
       "      <th>department_Research and Development</th>\n",
       "      <th>department_Sales</th>\n",
       "      <th>zone_East</th>\n",
       "      <th>zone_North</th>\n",
       "      <th>zone_South</th>\n",
       "      <th>zone_West</th>\n",
       "    </tr>\n",
       "  </thead>\n",
       "  <tbody>\n",
       "    <tr>\n",
       "      <th>0</th>\n",
       "      <td>60</td>\n",
       "      <td>34</td>\n",
       "      <td>1</td>\n",
       "      <td>0</td>\n",
       "      <td>6</td>\n",
       "      <td>1</td>\n",
       "      <td>0</td>\n",
       "      <td>0</td>\n",
       "      <td>0</td>\n",
       "      <td>1</td>\n",
       "      <td>0</td>\n",
       "      <td>0</td>\n",
       "      <td>0</td>\n",
       "      <td>0</td>\n",
       "      <td>0</td>\n",
       "      <td>0</td>\n",
       "      <td>0</td>\n",
       "      <td>1</td>\n",
       "      <td>0</td>\n",
       "    </tr>\n",
       "  </tbody>\n",
       "</table>\n",
       "</div>"
      ],
      "text/plain": [
       "   engagement_score  age  marital_status  gender  experience  company_size  \\\n",
       "0                60   34               1       0           6             1   \n",
       "\n",
       "   department_DataBase  department_Finance  department_HumanResources  \\\n",
       "0                    0                   0                          0   \n",
       "\n",
       "   department_IT  department_Marketing  department_Operations  \\\n",
       "0              1                     0                      0   \n",
       "\n",
       "   department_Other  department_Research and Development  department_Sales  \\\n",
       "0                 0                                    0                 0   \n",
       "\n",
       "   zone_East  zone_North  zone_South  zone_West  \n",
       "0          0           0           1          0  "
      ]
     },
     "execution_count": 70,
     "metadata": {},
     "output_type": "execute_result"
    }
   ],
   "source": [
    "df_predict"
   ]
  },
  {
   "cell_type": "code",
   "execution_count": 71,
   "metadata": {},
   "outputs": [
    {
     "data": {
      "text/plain": [
       "array([0], dtype=int64)"
      ]
     },
     "execution_count": 71,
     "metadata": {},
     "output_type": "execute_result"
    }
   ],
   "source": [
    "random_forest.predict(df_predict)"
   ]
  },
  {
   "cell_type": "code",
   "execution_count": 72,
   "metadata": {},
   "outputs": [],
   "source": [
    "import pickle\n",
    "filename = 'ml_model'\n",
    "pickle.dump(random_forest, open(filename, 'wb'))"
   ]
  },
  {
   "cell_type": "code",
   "execution_count": null,
   "metadata": {},
   "outputs": [],
   "source": []
  }
 ],
 "metadata": {
  "kernelspec": {
   "display_name": "Python 3",
   "language": "python",
   "name": "python3"
  },
  "language_info": {
   "codemirror_mode": {
    "name": "ipython",
    "version": 3
   },
   "file_extension": ".py",
   "mimetype": "text/x-python",
   "name": "python",
   "nbconvert_exporter": "python",
   "pygments_lexer": "ipython3",
   "version": "3.7.3"
  }
 },
 "nbformat": 4,
 "nbformat_minor": 2
}
