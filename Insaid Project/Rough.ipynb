{
 "cells": [
  {
   "cell_type": "code",
   "execution_count": 1,
   "metadata": {},
   "outputs": [],
   "source": [
    "import pandas as pd"
   ]
  },
  {
   "cell_type": "code",
   "execution_count": 2,
   "metadata": {},
   "outputs": [],
   "source": [
    "df = pd.read_csv('df.csv')"
   ]
  },
  {
   "cell_type": "code",
   "execution_count": 3,
   "metadata": {},
   "outputs": [
    {
     "data": {
      "text/html": [
       "<div>\n",
       "<style scoped>\n",
       "    .dataframe tbody tr th:only-of-type {\n",
       "        vertical-align: middle;\n",
       "    }\n",
       "\n",
       "    .dataframe tbody tr th {\n",
       "        vertical-align: top;\n",
       "    }\n",
       "\n",
       "    .dataframe thead th {\n",
       "        text-align: right;\n",
       "    }\n",
       "</style>\n",
       "<table border=\"1\" class=\"dataframe\">\n",
       "  <thead>\n",
       "    <tr style=\"text-align: right;\">\n",
       "      <th></th>\n",
       "      <th>Name</th>\n",
       "      <th>Mobile Number</th>\n",
       "      <th>Email Address</th>\n",
       "      <th>EngagementScore</th>\n",
       "      <th>Company</th>\n",
       "      <th>Age</th>\n",
       "      <th>MaritalStatus</th>\n",
       "      <th>gender</th>\n",
       "      <th>Exp</th>\n",
       "      <th>Interested</th>\n",
       "      <th>department</th>\n",
       "      <th>City</th>\n",
       "    </tr>\n",
       "  </thead>\n",
       "  <tbody>\n",
       "    <tr>\n",
       "      <th>0</th>\n",
       "      <td>Vijay</td>\n",
       "      <td>919959739997</td>\n",
       "      <td>sekharvij@gmail.com</td>\n",
       "      <td>89.0</td>\n",
       "      <td>Deloitte</td>\n",
       "      <td>24.0</td>\n",
       "      <td>Single</td>\n",
       "      <td>Male</td>\n",
       "      <td>4</td>\n",
       "      <td>Yes</td>\n",
       "      <td>IT</td>\n",
       "      <td>Bangalore</td>\n",
       "    </tr>\n",
       "    <tr>\n",
       "      <th>1</th>\n",
       "      <td>Ravindran Nagappan</td>\n",
       "      <td>919840107227</td>\n",
       "      <td>ravi.cti2000@gmail.com</td>\n",
       "      <td>93.0</td>\n",
       "      <td>Microsoft</td>\n",
       "      <td>30.0</td>\n",
       "      <td>Single</td>\n",
       "      <td>Male</td>\n",
       "      <td>14</td>\n",
       "      <td>No</td>\n",
       "      <td>Marketing</td>\n",
       "      <td>Tinsukia</td>\n",
       "    </tr>\n",
       "    <tr>\n",
       "      <th>2</th>\n",
       "      <td>Rohit</td>\n",
       "      <td>918408951853</td>\n",
       "      <td>rohitchouhan1119@gmail.com</td>\n",
       "      <td>89.0</td>\n",
       "      <td>CapGemini</td>\n",
       "      <td>30.0</td>\n",
       "      <td>Single</td>\n",
       "      <td>Male</td>\n",
       "      <td>11</td>\n",
       "      <td>Yes</td>\n",
       "      <td>DataBase</td>\n",
       "      <td>Coimbatore</td>\n",
       "    </tr>\n",
       "    <tr>\n",
       "      <th>3</th>\n",
       "      <td>Pramod Singh</td>\n",
       "      <td>918586886645</td>\n",
       "      <td>askpramodsingh@gmail.com</td>\n",
       "      <td>55.0</td>\n",
       "      <td>Amazon</td>\n",
       "      <td>50.0</td>\n",
       "      <td>Single</td>\n",
       "      <td>Female</td>\n",
       "      <td>15</td>\n",
       "      <td>No</td>\n",
       "      <td>HumanResources</td>\n",
       "      <td>Ghaziabad</td>\n",
       "    </tr>\n",
       "    <tr>\n",
       "      <th>4</th>\n",
       "      <td>Ajay Thakur</td>\n",
       "      <td>917666052926</td>\n",
       "      <td>ajay.thakur244@gmail.com</td>\n",
       "      <td>6.0</td>\n",
       "      <td>Gislen Software</td>\n",
       "      <td>54.0</td>\n",
       "      <td>Married</td>\n",
       "      <td>Female</td>\n",
       "      <td>1</td>\n",
       "      <td>No</td>\n",
       "      <td>Other</td>\n",
       "      <td>Indore</td>\n",
       "    </tr>\n",
       "  </tbody>\n",
       "</table>\n",
       "</div>"
      ],
      "text/plain": [
       "                 Name Mobile Number               Email Address  \\\n",
       "0               Vijay  919959739997         sekharvij@gmail.com   \n",
       "1  Ravindran Nagappan  919840107227      ravi.cti2000@gmail.com   \n",
       "2               Rohit  918408951853  rohitchouhan1119@gmail.com   \n",
       "3        Pramod Singh  918586886645    askpramodsingh@gmail.com   \n",
       "4         Ajay Thakur  917666052926    ajay.thakur244@gmail.com   \n",
       "\n",
       "   EngagementScore          Company   Age MaritalStatus  gender  Exp  \\\n",
       "0             89.0         Deloitte  24.0        Single    Male    4   \n",
       "1             93.0        Microsoft  30.0        Single    Male   14   \n",
       "2             89.0        CapGemini  30.0        Single    Male   11   \n",
       "3             55.0           Amazon  50.0        Single  Female   15   \n",
       "4              6.0  Gislen Software  54.0       Married  Female    1   \n",
       "\n",
       "  Interested      department        City  \n",
       "0        Yes              IT   Bangalore  \n",
       "1         No       Marketing    Tinsukia  \n",
       "2        Yes        DataBase  Coimbatore  \n",
       "3         No  HumanResources   Ghaziabad  \n",
       "4         No           Other      Indore  "
      ]
     },
     "execution_count": 3,
     "metadata": {},
     "output_type": "execute_result"
    }
   ],
   "source": [
    "df.head()"
   ]
  },
  {
   "cell_type": "code",
   "execution_count": 4,
   "metadata": {},
   "outputs": [],
   "source": [
    "df = df.sample(frac = 1).reset_index(drop = True)"
   ]
  },
  {
   "cell_type": "code",
   "execution_count": 5,
   "metadata": {},
   "outputs": [
    {
     "data": {
      "text/html": [
       "<div>\n",
       "<style scoped>\n",
       "    .dataframe tbody tr th:only-of-type {\n",
       "        vertical-align: middle;\n",
       "    }\n",
       "\n",
       "    .dataframe tbody tr th {\n",
       "        vertical-align: top;\n",
       "    }\n",
       "\n",
       "    .dataframe thead th {\n",
       "        text-align: right;\n",
       "    }\n",
       "</style>\n",
       "<table border=\"1\" class=\"dataframe\">\n",
       "  <thead>\n",
       "    <tr style=\"text-align: right;\">\n",
       "      <th></th>\n",
       "      <th>Name</th>\n",
       "      <th>Mobile Number</th>\n",
       "      <th>Email Address</th>\n",
       "      <th>EngagementScore</th>\n",
       "      <th>Company</th>\n",
       "      <th>Age</th>\n",
       "      <th>MaritalStatus</th>\n",
       "      <th>gender</th>\n",
       "      <th>Exp</th>\n",
       "      <th>Interested</th>\n",
       "      <th>department</th>\n",
       "      <th>City</th>\n",
       "    </tr>\n",
       "  </thead>\n",
       "  <tbody>\n",
       "    <tr>\n",
       "      <th>0</th>\n",
       "      <td>APPARAO</td>\n",
       "      <td>919731901980</td>\n",
       "      <td>appu.rongala@gmail.com</td>\n",
       "      <td>6.0</td>\n",
       "      <td>Tech Mahindra</td>\n",
       "      <td>24.0</td>\n",
       "      <td>Single</td>\n",
       "      <td>Male</td>\n",
       "      <td>10</td>\n",
       "      <td>Yes</td>\n",
       "      <td>DataBase</td>\n",
       "      <td>Coimbatore</td>\n",
       "    </tr>\n",
       "    <tr>\n",
       "      <th>1</th>\n",
       "      <td>Vaibhav</td>\n",
       "      <td>919959008470</td>\n",
       "      <td>rajvrs85@gmail.com</td>\n",
       "      <td>82.0</td>\n",
       "      <td>CTS</td>\n",
       "      <td>23.0</td>\n",
       "      <td>Single</td>\n",
       "      <td>Male</td>\n",
       "      <td>13</td>\n",
       "      <td>Yes</td>\n",
       "      <td>DataBase</td>\n",
       "      <td>Bangalore</td>\n",
       "    </tr>\n",
       "    <tr>\n",
       "      <th>2</th>\n",
       "      <td>Sandesh Mittal</td>\n",
       "      <td>917030632007</td>\n",
       "      <td>sandesh.mittal@gmail.com</td>\n",
       "      <td>36.0</td>\n",
       "      <td>IBM</td>\n",
       "      <td>26.0</td>\n",
       "      <td>Single</td>\n",
       "      <td>Male</td>\n",
       "      <td>11</td>\n",
       "      <td>No</td>\n",
       "      <td>Operations</td>\n",
       "      <td>Jalandhar</td>\n",
       "    </tr>\n",
       "    <tr>\n",
       "      <th>3</th>\n",
       "      <td>Devender Ahirwar</td>\n",
       "      <td>918143917044</td>\n",
       "      <td>devenderkumar090@gmail.com</td>\n",
       "      <td>56.0</td>\n",
       "      <td>Toshiba Software India Pvt ltd</td>\n",
       "      <td>44.0</td>\n",
       "      <td>Married</td>\n",
       "      <td>Female</td>\n",
       "      <td>8</td>\n",
       "      <td>Yes</td>\n",
       "      <td>Sales</td>\n",
       "      <td>Pachmarhi</td>\n",
       "    </tr>\n",
       "    <tr>\n",
       "      <th>4</th>\n",
       "      <td>Raju Lingampally</td>\n",
       "      <td>919739545462</td>\n",
       "      <td>rajulingampalli@gmail.com</td>\n",
       "      <td>22.0</td>\n",
       "      <td>Wipro</td>\n",
       "      <td>30.0</td>\n",
       "      <td>Single</td>\n",
       "      <td>Male</td>\n",
       "      <td>15</td>\n",
       "      <td>No</td>\n",
       "      <td>HumanResources</td>\n",
       "      <td>Ludhiana</td>\n",
       "    </tr>\n",
       "  </tbody>\n",
       "</table>\n",
       "</div>"
      ],
      "text/plain": [
       "               Name Mobile Number               Email Address  \\\n",
       "0           APPARAO  919731901980      appu.rongala@gmail.com   \n",
       "1           Vaibhav  919959008470          rajvrs85@gmail.com   \n",
       "2    Sandesh Mittal  917030632007    sandesh.mittal@gmail.com   \n",
       "3  Devender Ahirwar  918143917044  devenderkumar090@gmail.com   \n",
       "4  Raju Lingampally  919739545462   rajulingampalli@gmail.com   \n",
       "\n",
       "   EngagementScore                         Company   Age MaritalStatus  \\\n",
       "0              6.0                   Tech Mahindra  24.0        Single   \n",
       "1             82.0                             CTS  23.0        Single   \n",
       "2             36.0                             IBM  26.0        Single   \n",
       "3             56.0  Toshiba Software India Pvt ltd  44.0       Married   \n",
       "4             22.0                           Wipro  30.0        Single   \n",
       "\n",
       "   gender  Exp Interested      department        City  \n",
       "0    Male   10        Yes        DataBase  Coimbatore  \n",
       "1    Male   13        Yes        DataBase   Bangalore  \n",
       "2    Male   11         No      Operations   Jalandhar  \n",
       "3  Female    8        Yes           Sales   Pachmarhi  \n",
       "4    Male   15         No  HumanResources    Ludhiana  "
      ]
     },
     "execution_count": 5,
     "metadata": {},
     "output_type": "execute_result"
    }
   ],
   "source": [
    "df.head()"
   ]
  },
  {
   "cell_type": "code",
   "execution_count": 6,
   "metadata": {},
   "outputs": [],
   "source": [
    "import random"
   ]
  },
  {
   "cell_type": "code",
   "execution_count": 7,
   "metadata": {},
   "outputs": [
    {
     "data": {
      "text/plain": [
       "(1196, 12)"
      ]
     },
     "execution_count": 7,
     "metadata": {},
     "output_type": "execute_result"
    }
   ],
   "source": [
    "df.shape"
   ]
  },
  {
   "cell_type": "code",
   "execution_count": null,
   "metadata": {},
   "outputs": [],
   "source": [
    "0.7*1196"
   ]
  },
  {
   "cell_type": "code",
   "execution_count": 8,
   "metadata": {},
   "outputs": [],
   "source": [
    "random.seed(1)\n",
    "train = df.iloc[random.sample(list(range(df.shape[0])),838),:]"
   ]
  },
  {
   "cell_type": "code",
   "execution_count": 9,
   "metadata": {},
   "outputs": [
    {
     "data": {
      "text/html": [
       "<div>\n",
       "<style scoped>\n",
       "    .dataframe tbody tr th:only-of-type {\n",
       "        vertical-align: middle;\n",
       "    }\n",
       "\n",
       "    .dataframe tbody tr th {\n",
       "        vertical-align: top;\n",
       "    }\n",
       "\n",
       "    .dataframe thead th {\n",
       "        text-align: right;\n",
       "    }\n",
       "</style>\n",
       "<table border=\"1\" class=\"dataframe\">\n",
       "  <thead>\n",
       "    <tr style=\"text-align: right;\">\n",
       "      <th></th>\n",
       "      <th>Name</th>\n",
       "      <th>Mobile Number</th>\n",
       "      <th>Email Address</th>\n",
       "      <th>EngagementScore</th>\n",
       "      <th>Company</th>\n",
       "      <th>Age</th>\n",
       "      <th>MaritalStatus</th>\n",
       "      <th>gender</th>\n",
       "      <th>Exp</th>\n",
       "      <th>Interested</th>\n",
       "      <th>department</th>\n",
       "      <th>City</th>\n",
       "    </tr>\n",
       "  </thead>\n",
       "  <tbody>\n",
       "    <tr>\n",
       "      <th>275</th>\n",
       "      <td>Datla Venkata</td>\n",
       "      <td>919538221489</td>\n",
       "      <td>rangaraju.19@gmail.com</td>\n",
       "      <td>72.0</td>\n",
       "      <td>CapGemini</td>\n",
       "      <td>47.0</td>\n",
       "      <td>Single</td>\n",
       "      <td>Male</td>\n",
       "      <td>3</td>\n",
       "      <td>Yes</td>\n",
       "      <td>IT</td>\n",
       "      <td>Pondicherry</td>\n",
       "    </tr>\n",
       "    <tr>\n",
       "      <th>1165</th>\n",
       "      <td>Jyoti Shukla</td>\n",
       "      <td>917042245577</td>\n",
       "      <td>shukla.jyoti.1101@gmail.com</td>\n",
       "      <td>69.0</td>\n",
       "      <td>Infosys</td>\n",
       "      <td>43.0</td>\n",
       "      <td>Single</td>\n",
       "      <td>Male</td>\n",
       "      <td>11</td>\n",
       "      <td>No</td>\n",
       "      <td>Sales</td>\n",
       "      <td>Mysore</td>\n",
       "    </tr>\n",
       "    <tr>\n",
       "      <th>129</th>\n",
       "      <td>Satyajeet Reddy</td>\n",
       "      <td>919673854111</td>\n",
       "      <td>satyajeetreddy@yahoo.com</td>\n",
       "      <td>50.0</td>\n",
       "      <td>Amazon</td>\n",
       "      <td>51.0</td>\n",
       "      <td>Single</td>\n",
       "      <td>Male</td>\n",
       "      <td>14</td>\n",
       "      <td>Yes</td>\n",
       "      <td>Marketing</td>\n",
       "      <td>Surat</td>\n",
       "    </tr>\n",
       "    <tr>\n",
       "      <th>522</th>\n",
       "      <td>Shalini BARDHAN</td>\n",
       "      <td>919886310386</td>\n",
       "      <td>shalinibardhan93@gmail.com</td>\n",
       "      <td>52.0</td>\n",
       "      <td>Embassy IT Solutions</td>\n",
       "      <td>46.0</td>\n",
       "      <td>Married</td>\n",
       "      <td>Female</td>\n",
       "      <td>6</td>\n",
       "      <td>Yes</td>\n",
       "      <td>DataBase</td>\n",
       "      <td>Pondicherry</td>\n",
       "    </tr>\n",
       "    <tr>\n",
       "      <th>241</th>\n",
       "      <td>Sudipta Paul</td>\n",
       "      <td>918337093337</td>\n",
       "      <td>sudiptapaul1978@gmail.com</td>\n",
       "      <td>80.0</td>\n",
       "      <td>CTS</td>\n",
       "      <td>30.0</td>\n",
       "      <td>Single</td>\n",
       "      <td>Male</td>\n",
       "      <td>19</td>\n",
       "      <td>Yes</td>\n",
       "      <td>Marketing</td>\n",
       "      <td>Lonavala</td>\n",
       "    </tr>\n",
       "  </tbody>\n",
       "</table>\n",
       "</div>"
      ],
      "text/plain": [
       "                 Name Mobile Number                Email Address  \\\n",
       "275     Datla Venkata  919538221489       rangaraju.19@gmail.com   \n",
       "1165     Jyoti Shukla  917042245577  shukla.jyoti.1101@gmail.com   \n",
       "129   Satyajeet Reddy  919673854111     satyajeetreddy@yahoo.com   \n",
       "522   Shalini BARDHAN  919886310386   shalinibardhan93@gmail.com   \n",
       "241      Sudipta Paul  918337093337    sudiptapaul1978@gmail.com   \n",
       "\n",
       "      EngagementScore               Company   Age MaritalStatus  gender  Exp  \\\n",
       "275              72.0             CapGemini  47.0        Single    Male    3   \n",
       "1165             69.0               Infosys  43.0        Single    Male   11   \n",
       "129              50.0                Amazon  51.0        Single    Male   14   \n",
       "522              52.0  Embassy IT Solutions  46.0       Married  Female    6   \n",
       "241              80.0                   CTS  30.0        Single    Male   19   \n",
       "\n",
       "     Interested department         City  \n",
       "275         Yes         IT  Pondicherry  \n",
       "1165         No      Sales       Mysore  \n",
       "129         Yes  Marketing        Surat  \n",
       "522         Yes   DataBase  Pondicherry  \n",
       "241         Yes  Marketing     Lonavala  "
      ]
     },
     "execution_count": 9,
     "metadata": {},
     "output_type": "execute_result"
    }
   ],
   "source": [
    "train.head()"
   ]
  },
  {
   "cell_type": "code",
   "execution_count": 10,
   "metadata": {},
   "outputs": [],
   "source": [
    "l1 = list(range(df.shape[0]))"
   ]
  },
  {
   "cell_type": "code",
   "execution_count": 11,
   "metadata": {},
   "outputs": [],
   "source": [
    "random.seed(1)\n",
    "l2 = random.sample(list(range(df.shape[0])),838)"
   ]
  },
  {
   "cell_type": "code",
   "execution_count": 12,
   "metadata": {},
   "outputs": [
    {
     "data": {
      "text/plain": [
       "list"
      ]
     },
     "execution_count": 12,
     "metadata": {},
     "output_type": "execute_result"
    }
   ],
   "source": [
    "type(l2)"
   ]
  },
  {
   "cell_type": "code",
   "execution_count": 13,
   "metadata": {},
   "outputs": [],
   "source": [
    "l3 = []\n",
    "for i in l1:\n",
    "    if i not in l2:\n",
    "        l3.append(i)"
   ]
  },
  {
   "cell_type": "code",
   "execution_count": 14,
   "metadata": {},
   "outputs": [],
   "source": [
    "test = df.iloc[l3,:]"
   ]
  },
  {
   "cell_type": "code",
   "execution_count": 15,
   "metadata": {},
   "outputs": [
    {
     "data": {
      "text/html": [
       "<div>\n",
       "<style scoped>\n",
       "    .dataframe tbody tr th:only-of-type {\n",
       "        vertical-align: middle;\n",
       "    }\n",
       "\n",
       "    .dataframe tbody tr th {\n",
       "        vertical-align: top;\n",
       "    }\n",
       "\n",
       "    .dataframe thead th {\n",
       "        text-align: right;\n",
       "    }\n",
       "</style>\n",
       "<table border=\"1\" class=\"dataframe\">\n",
       "  <thead>\n",
       "    <tr style=\"text-align: right;\">\n",
       "      <th></th>\n",
       "      <th>Name</th>\n",
       "      <th>Mobile Number</th>\n",
       "      <th>Email Address</th>\n",
       "      <th>EngagementScore</th>\n",
       "      <th>Company</th>\n",
       "      <th>Age</th>\n",
       "      <th>MaritalStatus</th>\n",
       "      <th>gender</th>\n",
       "      <th>Exp</th>\n",
       "      <th>Interested</th>\n",
       "      <th>department</th>\n",
       "      <th>City</th>\n",
       "    </tr>\n",
       "  </thead>\n",
       "  <tbody>\n",
       "    <tr>\n",
       "      <th>1</th>\n",
       "      <td>Vaibhav</td>\n",
       "      <td>919959008470</td>\n",
       "      <td>rajvrs85@gmail.com</td>\n",
       "      <td>82.0</td>\n",
       "      <td>CTS</td>\n",
       "      <td>23.0</td>\n",
       "      <td>Single</td>\n",
       "      <td>Male</td>\n",
       "      <td>13</td>\n",
       "      <td>Yes</td>\n",
       "      <td>DataBase</td>\n",
       "      <td>Bangalore</td>\n",
       "    </tr>\n",
       "    <tr>\n",
       "      <th>2</th>\n",
       "      <td>Sandesh Mittal</td>\n",
       "      <td>917030632007</td>\n",
       "      <td>sandesh.mittal@gmail.com</td>\n",
       "      <td>36.0</td>\n",
       "      <td>IBM</td>\n",
       "      <td>26.0</td>\n",
       "      <td>Single</td>\n",
       "      <td>Male</td>\n",
       "      <td>11</td>\n",
       "      <td>No</td>\n",
       "      <td>Operations</td>\n",
       "      <td>Jalandhar</td>\n",
       "    </tr>\n",
       "    <tr>\n",
       "      <th>6</th>\n",
       "      <td>Venkat</td>\n",
       "      <td>919703087115</td>\n",
       "      <td>pammivenkat@gmail.com</td>\n",
       "      <td>41.0</td>\n",
       "      <td>Google</td>\n",
       "      <td>42.0</td>\n",
       "      <td>Single</td>\n",
       "      <td>Male</td>\n",
       "      <td>8</td>\n",
       "      <td>Yes</td>\n",
       "      <td>Marketing</td>\n",
       "      <td>Solapur</td>\n",
       "    </tr>\n",
       "    <tr>\n",
       "      <th>9</th>\n",
       "      <td>Vivek</td>\n",
       "      <td>917666125890</td>\n",
       "      <td>vivek.pervi@gmail.com</td>\n",
       "      <td>52.0</td>\n",
       "      <td>Mindtree</td>\n",
       "      <td>52.0</td>\n",
       "      <td>Married</td>\n",
       "      <td>Female</td>\n",
       "      <td>14</td>\n",
       "      <td>Yes</td>\n",
       "      <td>IT</td>\n",
       "      <td>Madurai</td>\n",
       "    </tr>\n",
       "    <tr>\n",
       "      <th>16</th>\n",
       "      <td>Mounika Sabbineni</td>\n",
       "      <td>919108156013</td>\n",
       "      <td>mounikasabbineni@gmail.com</td>\n",
       "      <td>17.0</td>\n",
       "      <td>Infotech Enterprises</td>\n",
       "      <td>43.0</td>\n",
       "      <td>Single</td>\n",
       "      <td>Female</td>\n",
       "      <td>12</td>\n",
       "      <td>No</td>\n",
       "      <td>HumanResources</td>\n",
       "      <td>Delhi</td>\n",
       "    </tr>\n",
       "  </tbody>\n",
       "</table>\n",
       "</div>"
      ],
      "text/plain": [
       "                 Name Mobile Number               Email Address  \\\n",
       "1             Vaibhav  919959008470          rajvrs85@gmail.com   \n",
       "2      Sandesh Mittal  917030632007    sandesh.mittal@gmail.com   \n",
       "6              Venkat  919703087115       pammivenkat@gmail.com   \n",
       "9               Vivek  917666125890       vivek.pervi@gmail.com   \n",
       "16  Mounika Sabbineni  919108156013  mounikasabbineni@gmail.com   \n",
       "\n",
       "    EngagementScore               Company   Age MaritalStatus  gender  Exp  \\\n",
       "1              82.0                   CTS  23.0        Single    Male   13   \n",
       "2              36.0                   IBM  26.0        Single    Male   11   \n",
       "6              41.0                Google  42.0        Single    Male    8   \n",
       "9              52.0              Mindtree  52.0       Married  Female   14   \n",
       "16             17.0  Infotech Enterprises  43.0        Single  Female   12   \n",
       "\n",
       "   Interested      department       City  \n",
       "1         Yes        DataBase  Bangalore  \n",
       "2          No      Operations  Jalandhar  \n",
       "6         Yes       Marketing    Solapur  \n",
       "9         Yes              IT    Madurai  \n",
       "16         No  HumanResources      Delhi  "
      ]
     },
     "execution_count": 15,
     "metadata": {},
     "output_type": "execute_result"
    }
   ],
   "source": [
    "test.head()"
   ]
  },
  {
   "cell_type": "code",
   "execution_count": 17,
   "metadata": {},
   "outputs": [
    {
     "data": {
      "text/plain": [
       "Yes    0.704057\n",
       "No     0.295943\n",
       "Name: Interested, dtype: float64"
      ]
     },
     "execution_count": 17,
     "metadata": {},
     "output_type": "execute_result"
    }
   ],
   "source": [
    "train.Interested.value_counts()/train.shape[0]"
   ]
  },
  {
   "cell_type": "code",
   "execution_count": 18,
   "metadata": {},
   "outputs": [
    {
     "data": {
      "text/plain": [
       "Yes    0.692737\n",
       "No     0.307263\n",
       "Name: Interested, dtype: float64"
      ]
     },
     "execution_count": 18,
     "metadata": {},
     "output_type": "execute_result"
    }
   ],
   "source": [
    "test.Interested.value_counts()/test.shape[0]"
   ]
  },
  {
   "cell_type": "code",
   "execution_count": null,
   "metadata": {},
   "outputs": [],
   "source": [
    ".reset_index(drop = True)"
   ]
  },
  {
   "cell_type": "code",
   "execution_count": 19,
   "metadata": {},
   "outputs": [],
   "source": [
    "train.to_csv('train.csv',index = False)"
   ]
  },
  {
   "cell_type": "code",
   "execution_count": 20,
   "metadata": {},
   "outputs": [],
   "source": [
    "test.to_csv('test.csv',index = False)"
   ]
  },
  {
   "cell_type": "code",
   "execution_count": null,
   "metadata": {},
   "outputs": [],
   "source": []
  }
 ],
 "metadata": {
  "kernelspec": {
   "display_name": "Python 3",
   "language": "python",
   "name": "python3"
  },
  "language_info": {
   "codemirror_mode": {
    "name": "ipython",
    "version": 3
   },
   "file_extension": ".py",
   "mimetype": "text/x-python",
   "name": "python",
   "nbconvert_exporter": "python",
   "pygments_lexer": "ipython3",
   "version": "3.7.3"
  }
 },
 "nbformat": 4,
 "nbformat_minor": 2
}
