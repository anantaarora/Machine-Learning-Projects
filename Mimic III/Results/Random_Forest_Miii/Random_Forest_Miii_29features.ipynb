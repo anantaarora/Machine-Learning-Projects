{
 "cells": [
  {
   "cell_type": "markdown",
   "metadata": {
    "id": "7yIqVJe0jhmt"
   },
   "source": [
    "# Import Libraries and Data"
   ]
  },
  {
   "cell_type": "code",
   "execution_count": 1,
   "metadata": {
    "executionInfo": {
     "elapsed": 2287,
     "status": "ok",
     "timestamp": 1687124842512,
     "user": {
      "displayName": "Andrew Liu",
      "userId": "01750910414052279045"
     },
     "user_tz": 420
    },
    "id": "TWbVMwsnjTuH"
   },
   "outputs": [],
   "source": [
    "# Loading Libraries\n",
    "import pandas as pd\n",
    "import numpy as np\n",
    "import seaborn as sns\n",
    "import matplotlib.pyplot as plt\n",
    "%matplotlib inline\n",
    "\n",
    "from sklearn.ensemble import RandomForestClassifier\n",
    "from sklearn.model_selection import train_test_split, GridSearchCV\n",
    "from sklearn import metrics\n",
    "from sklearn.metrics import classification_report, roc_auc_score, roc_curve\n",
    "from imblearn.under_sampling import RandomUnderSampler\n",
    "from sklearn.calibration import CalibrationDisplay, CalibratedClassifierCV, calibration_curve"
   ]
  },
  {
   "cell_type": "code",
   "execution_count": 2,
   "metadata": {
    "colab": {
     "base_uri": "https://localhost:8080/",
     "height": 334
    },
    "executionInfo": {
     "elapsed": 491,
     "status": "ok",
     "timestamp": 1687124845148,
     "user": {
      "displayName": "Andrew Liu",
      "userId": "01750910414052279045"
     },
     "user_tz": 420
    },
    "id": "LGd55JY2kit6",
    "outputId": "1c3f1444-e277-4d2c-c0d5-e2baccfcf628"
   },
   "outputs": [
    {
     "data": {
      "text/html": [
       "<div>\n",
       "<style scoped>\n",
       "    .dataframe tbody tr th:only-of-type {\n",
       "        vertical-align: middle;\n",
       "    }\n",
       "\n",
       "    .dataframe tbody tr th {\n",
       "        vertical-align: top;\n",
       "    }\n",
       "\n",
       "    .dataframe thead th {\n",
       "        text-align: right;\n",
       "    }\n",
       "</style>\n",
       "<table border=\"1\" class=\"dataframe\">\n",
       "  <thead>\n",
       "    <tr style=\"text-align: right;\">\n",
       "      <th></th>\n",
       "      <th>Unnamed: 0</th>\n",
       "      <th>Hospital Mortality</th>\n",
       "      <th>Age</th>\n",
       "      <th>Gender</th>\n",
       "      <th>Uncomplicated Hypertension</th>\n",
       "      <th>Complicated Hypertension</th>\n",
       "      <th>Uncomplicated Diabetes</th>\n",
       "      <th>Complicated Diabetes</th>\n",
       "      <th>Malignancy</th>\n",
       "      <th>Hematologic Disease</th>\n",
       "      <th>...</th>\n",
       "      <th>Mean WBC</th>\n",
       "      <th>Max BUN</th>\n",
       "      <th>Min BUN</th>\n",
       "      <th>Mean BUN</th>\n",
       "      <th>Max Creatinine</th>\n",
       "      <th>Min Creatinine</th>\n",
       "      <th>Mean Creatinine</th>\n",
       "      <th>Max Hemoglobin</th>\n",
       "      <th>Min Hemoglobin</th>\n",
       "      <th>Mean Hemoglobin</th>\n",
       "    </tr>\n",
       "  </thead>\n",
       "  <tbody>\n",
       "    <tr>\n",
       "      <th>0</th>\n",
       "      <td>0</td>\n",
       "      <td>0</td>\n",
       "      <td>77</td>\n",
       "      <td>M</td>\n",
       "      <td>0</td>\n",
       "      <td>0</td>\n",
       "      <td>0</td>\n",
       "      <td>0</td>\n",
       "      <td>0</td>\n",
       "      <td>0</td>\n",
       "      <td>...</td>\n",
       "      <td>17.26</td>\n",
       "      <td>53.0</td>\n",
       "      <td>41.0</td>\n",
       "      <td>44.75</td>\n",
       "      <td>3.2</td>\n",
       "      <td>2.4</td>\n",
       "      <td>2.65</td>\n",
       "      <td>12.8</td>\n",
       "      <td>7.8</td>\n",
       "      <td>10.04</td>\n",
       "    </tr>\n",
       "    <tr>\n",
       "      <th>1</th>\n",
       "      <td>1</td>\n",
       "      <td>1</td>\n",
       "      <td>42</td>\n",
       "      <td>M</td>\n",
       "      <td>1</td>\n",
       "      <td>0</td>\n",
       "      <td>0</td>\n",
       "      <td>0</td>\n",
       "      <td>0</td>\n",
       "      <td>0</td>\n",
       "      <td>...</td>\n",
       "      <td>10.60</td>\n",
       "      <td>17.0</td>\n",
       "      <td>16.0</td>\n",
       "      <td>16.50</td>\n",
       "      <td>1.4</td>\n",
       "      <td>1.2</td>\n",
       "      <td>1.30</td>\n",
       "      <td>15.4</td>\n",
       "      <td>12.9</td>\n",
       "      <td>14.10</td>\n",
       "    </tr>\n",
       "    <tr>\n",
       "      <th>2</th>\n",
       "      <td>2</td>\n",
       "      <td>1</td>\n",
       "      <td>72</td>\n",
       "      <td>M</td>\n",
       "      <td>1</td>\n",
       "      <td>0</td>\n",
       "      <td>0</td>\n",
       "      <td>0</td>\n",
       "      <td>0</td>\n",
       "      <td>0</td>\n",
       "      <td>...</td>\n",
       "      <td>8.10</td>\n",
       "      <td>39.0</td>\n",
       "      <td>28.0</td>\n",
       "      <td>33.50</td>\n",
       "      <td>1.7</td>\n",
       "      <td>1.3</td>\n",
       "      <td>1.50</td>\n",
       "      <td>13.3</td>\n",
       "      <td>7.8</td>\n",
       "      <td>10.23</td>\n",
       "    </tr>\n",
       "    <tr>\n",
       "      <th>3</th>\n",
       "      <td>9</td>\n",
       "      <td>1</td>\n",
       "      <td>72</td>\n",
       "      <td>M</td>\n",
       "      <td>1</td>\n",
       "      <td>0</td>\n",
       "      <td>0</td>\n",
       "      <td>0</td>\n",
       "      <td>1</td>\n",
       "      <td>1</td>\n",
       "      <td>...</td>\n",
       "      <td>6.90</td>\n",
       "      <td>13.0</td>\n",
       "      <td>11.0</td>\n",
       "      <td>12.00</td>\n",
       "      <td>0.9</td>\n",
       "      <td>0.7</td>\n",
       "      <td>0.80</td>\n",
       "      <td>10.6</td>\n",
       "      <td>10.6</td>\n",
       "      <td>10.60</td>\n",
       "    </tr>\n",
       "    <tr>\n",
       "      <th>4</th>\n",
       "      <td>13</td>\n",
       "      <td>0</td>\n",
       "      <td>76</td>\n",
       "      <td>M</td>\n",
       "      <td>0</td>\n",
       "      <td>0</td>\n",
       "      <td>0</td>\n",
       "      <td>0</td>\n",
       "      <td>0</td>\n",
       "      <td>0</td>\n",
       "      <td>...</td>\n",
       "      <td>18.20</td>\n",
       "      <td>55.0</td>\n",
       "      <td>42.0</td>\n",
       "      <td>48.50</td>\n",
       "      <td>2.6</td>\n",
       "      <td>1.8</td>\n",
       "      <td>2.20</td>\n",
       "      <td>12.5</td>\n",
       "      <td>12.5</td>\n",
       "      <td>12.50</td>\n",
       "    </tr>\n",
       "  </tbody>\n",
       "</table>\n",
       "<p>5 rows × 69 columns</p>\n",
       "</div>"
      ],
      "text/plain": [
       "   Unnamed: 0  Hospital Mortality  Age Gender  Uncomplicated Hypertension  \\\n",
       "0           0                   0   77      M                           0   \n",
       "1           1                   1   42      M                           1   \n",
       "2           2                   1   72      M                           1   \n",
       "3           9                   1   72      M                           1   \n",
       "4          13                   0   76      M                           0   \n",
       "\n",
       "   Complicated Hypertension  Uncomplicated Diabetes  Complicated Diabetes  \\\n",
       "0                         0                       0                     0   \n",
       "1                         0                       0                     0   \n",
       "2                         0                       0                     0   \n",
       "3                         0                       0                     0   \n",
       "4                         0                       0                     0   \n",
       "\n",
       "   Malignancy  Hematologic Disease  ...  Mean WBC  Max BUN  Min BUN  Mean BUN  \\\n",
       "0           0                    0  ...     17.26     53.0     41.0     44.75   \n",
       "1           0                    0  ...     10.60     17.0     16.0     16.50   \n",
       "2           0                    0  ...      8.10     39.0     28.0     33.50   \n",
       "3           1                    1  ...      6.90     13.0     11.0     12.00   \n",
       "4           0                    0  ...     18.20     55.0     42.0     48.50   \n",
       "\n",
       "   Max Creatinine  Min Creatinine  Mean Creatinine  Max Hemoglobin  \\\n",
       "0             3.2             2.4             2.65            12.8   \n",
       "1             1.4             1.2             1.30            15.4   \n",
       "2             1.7             1.3             1.50            13.3   \n",
       "3             0.9             0.7             0.80            10.6   \n",
       "4             2.6             1.8             2.20            12.5   \n",
       "\n",
       "   Min Hemoglobin  Mean Hemoglobin  \n",
       "0             7.8            10.04  \n",
       "1            12.9            14.10  \n",
       "2             7.8            10.23  \n",
       "3            10.6            10.60  \n",
       "4            12.5            12.50  \n",
       "\n",
       "[5 rows x 69 columns]"
      ]
     },
     "execution_count": 2,
     "metadata": {},
     "output_type": "execute_result"
    }
   ],
   "source": [
    "# Loading Dataset\n",
    "raw_data = pd.read_csv(\"data_new.csv\")\n",
    "raw_data.head()"
   ]
  },
  {
   "cell_type": "markdown",
   "metadata": {
    "id": "vkRj_HHOl0SJ"
   },
   "source": [
    "# Data Preparation"
   ]
  },
  {
   "cell_type": "code",
   "execution_count": 3,
   "metadata": {
    "colab": {
     "base_uri": "https://localhost:8080/"
    },
    "executionInfo": {
     "elapsed": 180,
     "status": "ok",
     "timestamp": 1687124848438,
     "user": {
      "displayName": "Andrew Liu",
      "userId": "01750910414052279045"
     },
     "user_tz": 420
    },
    "id": "4VFWbl5qk8gT",
    "outputId": "61dd69d8-a48d-4393-d81a-3c94618a93a9"
   },
   "outputs": [
    {
     "name": "stdout",
     "output_type": "stream",
     "text": [
      "<class 'pandas.core.frame.DataFrame'>\n",
      "RangeIndex: 12489 entries, 0 to 12488\n",
      "Data columns (total 69 columns):\n",
      " #   Column                                 Non-Null Count  Dtype  \n",
      "---  ------                                 --------------  -----  \n",
      " 0   Unnamed: 0                             12489 non-null  int64  \n",
      " 1   Hospital Mortality                     12489 non-null  int64  \n",
      " 2   Age                                    12489 non-null  int64  \n",
      " 3   Gender                                 12489 non-null  object \n",
      " 4   Uncomplicated Hypertension             12489 non-null  int64  \n",
      " 5   Complicated Hypertension               12489 non-null  int64  \n",
      " 6   Uncomplicated Diabetes                 12489 non-null  int64  \n",
      " 7   Complicated Diabetes                   12489 non-null  int64  \n",
      " 8   Malignancy                             12489 non-null  int64  \n",
      " 9   Hematologic Disease                    12489 non-null  int64  \n",
      " 10  Metastasis                             12489 non-null  int64  \n",
      " 11  Peripheral Vascular Disease            12489 non-null  int64  \n",
      " 12  Hypothyroidism                         12489 non-null  int64  \n",
      " 13  Chronic Heart Failure                  12489 non-null  int64  \n",
      " 14  Stroke                                 12489 non-null  int64  \n",
      " 15  Liver Disease                          12489 non-null  int64  \n",
      " 16  SAPS II                                12489 non-null  int64  \n",
      " 17  SOFA                                   12489 non-null  int64  \n",
      " 18  OASIS                                  12489 non-null  int64  \n",
      " 19  Sepsis                                 12489 non-null  int64  \n",
      " 20  Any Organ Failure                      12489 non-null  int64  \n",
      " 21  Severe Respiratory Failure             12489 non-null  int64  \n",
      " 22  Severe Coagulation Failure             12489 non-null  int64  \n",
      " 23  Severe Liver Failure                   12489 non-null  int64  \n",
      " 24  Severe Cardiovascular Failure          12489 non-null  int64  \n",
      " 25  Severe Central Nervous System Failure  12489 non-null  int64  \n",
      " 26  Severe Renal Failure                   12489 non-null  int64  \n",
      " 27  Respiratory Dysfunction                12489 non-null  int64  \n",
      " 28  Cardiovascular Dysfunction             12489 non-null  int64  \n",
      " 29  Renal Dysfunction                      12489 non-null  int64  \n",
      " 30  Hematologic Dysfunction                12489 non-null  int64  \n",
      " 31  Metabolic Dysfunction                  12489 non-null  int64  \n",
      " 32  Neurologic Dysfunction                 12489 non-null  int64  \n",
      " 33  Max Heart Rate                         12489 non-null  float64\n",
      " 34  Min Heart Rate                         12489 non-null  float64\n",
      " 35  Mean Heart Rate                        12489 non-null  float64\n",
      " 36  Max MAP                                12489 non-null  float64\n",
      " 37  Min MAP                                12489 non-null  float64\n",
      " 38  Mean MAP                               12489 non-null  float64\n",
      " 39  Max Systolic Pressure                  12489 non-null  float64\n",
      " 40  Min Systolic Pressure                  12489 non-null  float64\n",
      " 41  Mean Systolic Pressure                 12489 non-null  float64\n",
      " 42  Max Diastolic Pressure                 12489 non-null  float64\n",
      " 43  Min Diastolic Pressure                 12489 non-null  float64\n",
      " 44  Mean Diastolic Pressure                12489 non-null  float64\n",
      " 45  Max Temperature                        12489 non-null  float64\n",
      " 46  Min Temperature                        12489 non-null  float64\n",
      " 47  Mean Temperature                       12489 non-null  float64\n",
      " 48  Max Lactate                            12489 non-null  float64\n",
      " 49  Min Lactate                            12489 non-null  float64\n",
      " 50  Mean Lactate                           12489 non-null  float64\n",
      " 51  Max pH                                 12489 non-null  float64\n",
      " 52  Min pH                                 12489 non-null  float64\n",
      " 53  Mean pH                                12489 non-null  float64\n",
      " 54  Max Glucose                            12489 non-null  float64\n",
      " 55  Min Glucose                            12489 non-null  float64\n",
      " 56  Mean Glucose                           12489 non-null  float64\n",
      " 57  Max WBC                                12489 non-null  float64\n",
      " 58  Min WBC                                12489 non-null  float64\n",
      " 59  Mean WBC                               12489 non-null  float64\n",
      " 60  Max BUN                                12489 non-null  float64\n",
      " 61  Min BUN                                12489 non-null  float64\n",
      " 62  Mean BUN                               12489 non-null  float64\n",
      " 63  Max Creatinine                         12489 non-null  float64\n",
      " 64  Min Creatinine                         12489 non-null  float64\n",
      " 65  Mean Creatinine                        12489 non-null  float64\n",
      " 66  Max Hemoglobin                         12489 non-null  float64\n",
      " 67  Min Hemoglobin                         12489 non-null  float64\n",
      " 68  Mean Hemoglobin                        12489 non-null  float64\n",
      "dtypes: float64(36), int64(32), object(1)\n",
      "memory usage: 6.6+ MB\n"
     ]
    }
   ],
   "source": [
    "raw_data.info()"
   ]
  },
  {
   "cell_type": "markdown",
   "metadata": {
    "id": "HywsdL1ElC5A"
   },
   "source": [
    "No missing values, all correct datatype, CHECK."
   ]
  },
  {
   "cell_type": "code",
   "execution_count": 4,
   "metadata": {
    "colab": {
     "base_uri": "https://localhost:8080/"
    },
    "executionInfo": {
     "elapsed": 173,
     "status": "ok",
     "timestamp": 1687124854327,
     "user": {
      "displayName": "Andrew Liu",
      "userId": "01750910414052279045"
     },
     "user_tz": 420
    },
    "id": "ujsUy9bUk8et",
    "outputId": "6a8f0b48-6b72-4ab7-c746-5c4f2d8ea82a"
   },
   "outputs": [
    {
     "data": {
      "text/plain": [
       "0    10331\n",
       "1     2158\n",
       "Name: Hospital Mortality, dtype: int64"
      ]
     },
     "execution_count": 4,
     "metadata": {},
     "output_type": "execute_result"
    }
   ],
   "source": [
    "raw_data['Hospital Mortality'].value_counts()"
   ]
  },
  {
   "cell_type": "code",
   "execution_count": 5,
   "metadata": {
    "colab": {
     "base_uri": "https://localhost:8080/"
    },
    "executionInfo": {
     "elapsed": 3,
     "status": "ok",
     "timestamp": 1687124855360,
     "user": {
      "displayName": "Andrew Liu",
      "userId": "01750910414052279045"
     },
     "user_tz": 420
    },
    "id": "U569EVo0k8aP",
    "outputId": "6769fa35-b41e-461f-c25a-bc650e283b7a"
   },
   "outputs": [
    {
     "name": "stdout",
     "output_type": "stream",
     "text": [
      "The data is unbalanced with 16.0% mortality rate.\n"
     ]
    }
   ],
   "source": [
    "print(f\"The data is unbalanced with {3017/(3017+15866)*100:.1f}% mortality rate.\")"
   ]
  },
  {
   "cell_type": "code",
   "execution_count": 6,
   "metadata": {
    "executionInfo": {
     "elapsed": 2,
     "status": "ok",
     "timestamp": 1687124856015,
     "user": {
      "displayName": "Andrew Liu",
      "userId": "01750910414052279045"
     },
     "user_tz": 420
    },
    "id": "ZoDIQmuSnGNx"
   },
   "outputs": [],
   "source": [
    "# Convert Gender from Str to Numeric\n",
    "raw_data['Gender'] = pd.get_dummies(raw_data['Gender'], drop_first = True)"
   ]
  },
  {
   "cell_type": "code",
   "execution_count": 7,
   "metadata": {
    "colab": {
     "base_uri": "https://localhost:8080/"
    },
    "executionInfo": {
     "elapsed": 8,
     "status": "ok",
     "timestamp": 1687124856949,
     "user": {
      "displayName": "Andrew Liu",
      "userId": "01750910414052279045"
     },
     "user_tz": 420
    },
    "id": "5xoyTBQek8Xf",
    "outputId": "4bb9d452-544c-40ac-e728-8f79707b37cc"
   },
   "outputs": [
    {
     "data": {
      "text/plain": [
       "Index(['Unnamed: 0', 'Hospital Mortality', 'Age', 'Gender',\n",
       "       'Uncomplicated Hypertension', 'Complicated Hypertension',\n",
       "       'Uncomplicated Diabetes', 'Complicated Diabetes', 'Malignancy',\n",
       "       'Hematologic Disease', 'Metastasis', 'Peripheral Vascular Disease',\n",
       "       'Hypothyroidism', 'Chronic Heart Failure', 'Stroke', 'Liver Disease',\n",
       "       'SAPS II', 'SOFA', 'OASIS', 'Sepsis', 'Any Organ Failure',\n",
       "       'Severe Respiratory Failure', 'Severe Coagulation Failure',\n",
       "       'Severe Liver Failure', 'Severe Cardiovascular Failure',\n",
       "       'Severe Central Nervous System Failure', 'Severe Renal Failure',\n",
       "       'Respiratory Dysfunction', 'Cardiovascular Dysfunction',\n",
       "       'Renal Dysfunction', 'Hematologic Dysfunction', 'Metabolic Dysfunction',\n",
       "       'Neurologic Dysfunction', 'Max Heart Rate', 'Min Heart Rate',\n",
       "       'Mean Heart Rate', 'Max MAP', 'Min MAP', 'Mean MAP',\n",
       "       'Max Systolic Pressure', 'Min Systolic Pressure',\n",
       "       'Mean Systolic Pressure', 'Max Diastolic Pressure',\n",
       "       'Min Diastolic Pressure', 'Mean Diastolic Pressure', 'Max Temperature',\n",
       "       'Min Temperature', 'Mean Temperature', 'Max Lactate', 'Min Lactate',\n",
       "       'Mean Lactate', 'Max pH', 'Min pH', 'Mean pH', 'Max Glucose',\n",
       "       'Min Glucose', 'Mean Glucose', 'Max WBC', 'Min WBC', 'Mean WBC',\n",
       "       'Max BUN', 'Min BUN', 'Mean BUN', 'Max Creatinine', 'Min Creatinine',\n",
       "       'Mean Creatinine', 'Max Hemoglobin', 'Min Hemoglobin',\n",
       "       'Mean Hemoglobin'],\n",
       "      dtype='object')"
      ]
     },
     "execution_count": 7,
     "metadata": {},
     "output_type": "execute_result"
    }
   ],
   "source": [
    "raw_data.columns"
   ]
  },
  {
   "cell_type": "code",
   "execution_count": 8,
   "metadata": {
    "executionInfo": {
     "elapsed": 192,
     "status": "ok",
     "timestamp": 1687124858775,
     "user": {
      "displayName": "Andrew Liu",
      "userId": "01750910414052279045"
     },
     "user_tz": 420
    },
    "id": "Znm16ibtk8VG"
   },
   "outputs": [],
   "source": [
    "features = [\n",
    "    'SAPS II', 'OASIS', 'Age', 'Gender',\n",
    "    'Min Heart Rate', 'Mean Heart Rate', 'Mean MAP', 'Min Systolic Pressure',\n",
    "    'Mean Systolic Pressure', 'Min Diastolic Pressure', 'Mean Diastolic Pressure', 'Max Temperature',\n",
    "    'Mean Temperature', 'Max Lactate', 'Min Lactate', 'Min pH',\n",
    "    'Mean pH', 'Min Glucose', 'Min BUN', 'Max Hemoglobin',\n",
    "    'Min Hemoglobin', 'Uncomplicated Hypertension', 'Complicated Hypertension', 'Uncomplicated Diabetes',\n",
    "    'Complicated Diabetes', 'Malignancy', 'Hematologic Disease', 'Peripheral Vascular Disease',\n",
    "    'Hypothyroidism', 'Chronic Heart Failure', 'Liver Disease', 'Any Organ Failure',\n",
    "    'Severe Respiratory Failure', 'Severe Cardiovascular Failure', 'Severe Central Nervous System Failure', 'Severe Renal Failure',\n",
    "    'Respiratory Dysfunction', 'Renal Dysfunction', 'Metabolic Dysfunction', 'Neurologic Dysfunction'\n",
    "    ]"
   ]
  },
  {
   "cell_type": "code",
   "execution_count": 9,
   "metadata": {
    "executionInfo": {
     "elapsed": 169,
     "status": "ok",
     "timestamp": 1687124860381,
     "user": {
      "displayName": "Andrew Liu",
      "userId": "01750910414052279045"
     },
     "user_tz": 420
    },
    "id": "ZaAq8ZMqk8TI"
   },
   "outputs": [],
   "source": [
    "X = raw_data[features]\n",
    "y = raw_data['Hospital Mortality']"
   ]
  },
  {
   "cell_type": "code",
   "execution_count": 10,
   "metadata": {
    "executionInfo": {
     "elapsed": 5,
     "status": "ok",
     "timestamp": 1687124861051,
     "user": {
      "displayName": "Andrew Liu",
      "userId": "01750910414052279045"
     },
     "user_tz": 420
    },
    "id": "3noUsREHk8Ro"
   },
   "outputs": [],
   "source": [
    "# Split dataset into training set and test set\n",
    "X_train, X_test, y_train, y_test = train_test_split(X, y, test_size=0.3, random_state=123)"
   ]
  },
  {
   "cell_type": "code",
   "execution_count": 11,
   "metadata": {
    "colab": {
     "base_uri": "https://localhost:8080/"
    },
    "executionInfo": {
     "elapsed": 3,
     "status": "ok",
     "timestamp": 1687124862295,
     "user": {
      "displayName": "Andrew Liu",
      "userId": "01750910414052279045"
     },
     "user_tz": 420
    },
    "id": "iMhduUQ53_5N",
    "outputId": "cd99790c-4246-4773-fe40-4cd2e00006c2"
   },
   "outputs": [
    {
     "data": {
      "text/plain": [
       "0    1508\n",
       "1    1508\n",
       "Name: Hospital Mortality, dtype: int64"
      ]
     },
     "execution_count": 11,
     "metadata": {},
     "output_type": "execute_result"
    }
   ],
   "source": [
    "# Undersampling the training set\n",
    "rus = RandomUnderSampler(random_state=42)\n",
    "X_train_rus, y_train_rus= rus.fit_resample(X_train, y_train)\n",
    "\n",
    "y_train_rus.value_counts()"
   ]
  },
  {
   "cell_type": "code",
   "execution_count": 12,
   "metadata": {},
   "outputs": [],
   "source": [
    "#Undersampling the test set"
   ]
  },
  {
   "cell_type": "code",
   "execution_count": 13,
   "metadata": {},
   "outputs": [
    {
     "data": {
      "text/plain": [
       "0    650\n",
       "1    650\n",
       "Name: Hospital Mortality, dtype: int64"
      ]
     },
     "execution_count": 13,
     "metadata": {},
     "output_type": "execute_result"
    }
   ],
   "source": [
    "rus = RandomUnderSampler(random_state=42)\n",
    "X_test_rus, y_test_rus= rus.fit_resample(X_test, y_test)\n",
    "\n",
    "y_test_rus.value_counts()"
   ]
  },
  {
   "cell_type": "markdown",
   "metadata": {
    "id": "5YWNdBlZmNIU"
   },
   "source": [
    "# Random Forest Classifier\n",
    "\n",
    "https://scikit-learn.org/stable/modules/generated/sklearn.ensemble.RandomForestClassifier.html\n",
    "\n",
    "class sklearn.ensemble.RandomForestClassifier(n_estimators=100, *, criterion='gini', max_depth=None, min_samples_split=2, min_samples_leaf=1, min_weight_fraction_leaf=0.0, max_features='sqrt', max_leaf_nodes=None, min_impurity_decrease=0.0, bootstrap=True, oob_score=False, n_jobs=None, random_state=None, verbose=0, warm_start=False, class_weight=None, ccp_alpha=0.0, max_samples=None)[source]"
   ]
  },
  {
   "cell_type": "markdown",
   "metadata": {
    "id": "JEjmTUxRmt-2"
   },
   "source": [
    "## Untuned Model Performance"
   ]
  },
  {
   "cell_type": "markdown",
   "metadata": {
    "id": "WuF9sxAm4T6g"
   },
   "source": [
    "### Balanced Data - Undersampling technique"
   ]
  },
  {
   "cell_type": "code",
   "execution_count": 14,
   "metadata": {
    "colab": {
     "base_uri": "https://localhost:8080/"
    },
    "executionInfo": {
     "elapsed": 1883,
     "status": "ok",
     "timestamp": 1687124874535,
     "user": {
      "displayName": "Andrew Liu",
      "userId": "01750910414052279045"
     },
     "user_tz": 420
    },
    "id": "J4-aMlBnpEzk",
    "outputId": "1235f290-443d-403c-ddcd-267c91990dea"
   },
   "outputs": [
    {
     "name": "stdout",
     "output_type": "stream",
     "text": [
      "Accuracy: 0.7853846153846153\n"
     ]
    }
   ],
   "source": [
    "# Creating a Random Forest Model\n",
    "rfc = RandomForestClassifier()\n",
    "\n",
    "# Model Training\n",
    "rfc_rus = rfc.fit(X_train_rus, y_train_rus)\n",
    "\n",
    "# Get Prediction Values\n",
    "y_pred_rus = rfc_rus.predict(X_test_rus)\n",
    "\n",
    "print(\"Accuracy:\",metrics.accuracy_score(y_test_rus, y_pred_rus))"
   ]
  },
  {
   "cell_type": "markdown",
   "metadata": {
    "id": "nxYCDWkA4ov5"
   },
   "source": [
    "Accuracy dropped from 0.87 => 0.77"
   ]
  },
  {
   "cell_type": "markdown",
   "metadata": {
    "id": "q-sAeUK-pKK3"
   },
   "source": [
    "## Grid Search"
   ]
  },
  {
   "cell_type": "markdown",
   "metadata": {
    "id": "jZDcfRhx6Row"
   },
   "source": [
    "### Balanced Data"
   ]
  },
  {
   "cell_type": "code",
   "execution_count": 15,
   "metadata": {
    "colab": {
     "base_uri": "https://localhost:8080/"
    },
    "executionInfo": {
     "elapsed": 2987938,
     "status": "ok",
     "timestamp": 1687107246037,
     "user": {
      "displayName": "Andrew Liu",
      "userId": "01750910414052279045"
     },
     "user_tz": 420
    },
    "id": "aS5BiKGc6S8-",
    "outputId": "e0da24ca-ef3c-4296-9a06-74c7a713c3f6"
   },
   "outputs": [
    {
     "name": "stdout",
     "output_type": "stream",
     "text": [
      "Fitting 10 folds for each of 108 candidates, totalling 1080 fits\n",
      "tuned hpyerparameters: (best parameters) {'criterion': 'log_loss', 'min_samples_leaf': 2, 'min_samples_split': 2, 'n_estimators': 50}\n",
      "accuracy : 0.7735748388374294\n"
     ]
    }
   ],
   "source": [
    "params = {\n",
    "    \"criterion\": [\"gini\", \"entropy\", \"log_loss\"],\n",
    "    \"n_estimators\": [50, 100, 250, 500],\n",
    "    \"min_samples_split\": range(2, 5),\n",
    "    \"min_samples_leaf\": range(1, 4)\n",
    "}\n",
    "\n",
    "search_rus = GridSearchCV(rfc_rus, params, n_jobs = -1, cv = 10, verbose = 2)\n",
    "\n",
    "search_rus.fit(X_train_rus, y_train_rus)\n",
    "\n",
    "# GridSearchCV results\n",
    "print(\"tuned hpyerparameters: (best parameters)\", search_rus.best_params_)\n",
    "print(\"accuracy :\", search_rus.best_score_)\n"
   ]
  },
  {
   "cell_type": "code",
   "execution_count": 16,
   "metadata": {
    "executionInfo": {
     "elapsed": 15406,
     "status": "ok",
     "timestamp": 1687124941349,
     "user": {
      "displayName": "Andrew Liu",
      "userId": "01750910414052279045"
     },
     "user_tz": 420
    },
    "id": "7fA-oj1sYISD"
   },
   "outputs": [],
   "source": [
    "# In case I lose the grid search results above\n",
    "# fit the best hyperparameter in the data\n",
    "search_rus = RandomForestClassifier(criterion = 'entropy', n_estimators = 100, min_samples_split = 3, min_samples_leaf = 3)\n",
    "search_rus = search_rus.fit(X_train_rus, y_train_rus)"
   ]
  },
  {
   "cell_type": "markdown",
   "metadata": {
    "id": "H2XYONQJKZnB"
   },
   "source": [
    "# Results from Best Models"
   ]
  },
  {
   "cell_type": "code",
   "execution_count": 17,
   "metadata": {
    "id": "QPzl_izrKbcv"
   },
   "outputs": [],
   "source": [
    "y_prob = search_rus.predict_proba(X_test_rus)\n",
    "y_prob_rus = search_rus.predict_proba(X_test_rus)"
   ]
  },
  {
   "cell_type": "markdown",
   "metadata": {
    "id": "XPrCKTzkiw_k"
   },
   "source": [
    "## 2. ROC Curves"
   ]
  },
  {
   "cell_type": "code",
   "execution_count": 18,
   "metadata": {
    "colab": {
     "base_uri": "https://localhost:8080/"
    },
    "executionInfo": {
     "elapsed": 21,
     "status": "ok",
     "timestamp": 1687109269549,
     "user": {
      "displayName": "Andrew Liu",
      "userId": "01750910414052279045"
     },
     "user_tz": 420
    },
    "id": "1tjXenIWftPf",
    "outputId": "87e63bc7-03ca-42ef-d37b-6d81a472ec83"
   },
   "outputs": [
    {
     "name": "stdout",
     "output_type": "stream",
     "text": [
      "For the best models: \n",
      "Balanced Data AUC = 0.8579076923076923\n"
     ]
    }
   ],
   "source": [
    "# AUC score\n",
    "rus_auc = roc_auc_score(y_test_rus, y_prob_rus[:,1])\n",
    "print(f\"For the best models: \\nBalanced Data AUC = {rus_auc}\")"
   ]
  },
  {
   "cell_type": "code",
   "execution_count": 19,
   "metadata": {
    "colab": {
     "base_uri": "https://localhost:8080/",
     "height": 564
    },
    "executionInfo": {
     "elapsed": 549,
     "status": "ok",
     "timestamp": 1687109270088,
     "user": {
      "displayName": "Andrew Liu",
      "userId": "01750910414052279045"
     },
     "user_tz": 420
    },
    "id": "SuRUW8yDftMt",
    "outputId": "3ec3b217-d054-490e-8691-df1863d27a10"
   },
   "outputs": [
    {
     "data": {
      "image/png": "[encoded data removed]",
      "text/plain": [
       "<Figure size 1000x600 with 1 Axes>"
      ]
     },
     "metadata": {},
     "output_type": "display_data"
    }
   ],
   "source": [
    "# fpr - false positive rate\n",
    "# tpr - true positive rate\n",
    "# threshold - part of the decision function used to calculate fpr and tpr\n",
    "\n",
    "fpr_rus, tpr_rus, threshold_rus = roc_curve(y_test_rus, y_prob_rus[:,1])\n",
    "\n",
    "\n",
    "plt.figure(figsize = (10, 6))\n",
    "\n",
    "plt.plot(fpr_rus, tpr_rus, label = f'Balanced Data - Decision Tree Model (AUC = {rus_auc:.2f})')\n",
    "plt.plot([0, 1], [0, 1], 'k--')  # diagonal line representing random classifier\n",
    "\n",
    "plt.xlabel('1 - Specificity')\n",
    "plt.ylabel('Sensitivity')\n",
    "plt.title('Receiver Operating Characteristic (ROC) Curve')\n",
    "plt.legend(loc = 'lower right')\n",
    "\n",
    "plt.show()"
   ]
  },
  {
   "cell_type": "markdown",
   "metadata": {
    "id": "1i-msrEHlBKe"
   },
   "source": [
    "## 3. Classification Reports"
   ]
  },
  {
   "cell_type": "code",
   "execution_count": 20,
   "metadata": {
    "id": "2dcI3lYGlYox"
   },
   "outputs": [],
   "source": [
    "y_pred_rus = search_rus.predict(X_test_rus)"
   ]
  },
  {
   "cell_type": "code",
   "execution_count": 21,
   "metadata": {
    "colab": {
     "base_uri": "https://localhost:8080/"
    },
    "executionInfo": {
     "elapsed": 15,
     "status": "ok",
     "timestamp": 1687110002785,
     "user": {
      "displayName": "Andrew Liu",
      "userId": "01750910414052279045"
     },
     "user_tz": 420
    },
    "id": "KIN95qzGftFV",
    "outputId": "f1e009e1-fa19-465d-e015-30e521e6454d"
   },
   "outputs": [
    {
     "name": "stdout",
     "output_type": "stream",
     "text": [
      "Classification Report: Balanced Data & Uncalibrated\n",
      "              precision    recall  f1-score   support\n",
      "\n",
      "    Survival       0.77      0.75      0.76       650\n",
      "       Death       0.76      0.78      0.77       650\n",
      "\n",
      "    accuracy                           0.76      1300\n",
      "   macro avg       0.76      0.76      0.76      1300\n",
      "weighted avg       0.76      0.76      0.76      1300\n",
      "\n"
     ]
    }
   ],
   "source": [
    "print(\"Classification Report: Balanced Data & Uncalibrated\")\n",
    "print(classification_report(y_test_rus, y_pred_rus, target_names = ['Survival', 'Death']))"
   ]
  },
  {
   "cell_type": "markdown",
   "metadata": {
    "id": "QUZuk-7Aerl_"
   },
   "source": [
    "## 4. Importance Graphs"
   ]
  },
  {
   "cell_type": "code",
   "execution_count": 22,
   "metadata": {
    "colab": {
     "base_uri": "https://localhost:8080/",
     "height": 1000
    },
    "executionInfo": {
     "elapsed": 1396,
     "status": "ok",
     "timestamp": 1687125044125,
     "user": {
      "displayName": "Andrew Liu",
      "userId": "01750910414052279045"
     },
     "user_tz": 420
    },
    "id": "covI6SmPetoK",
    "outputId": "2fb4d819-5b96-4e35-fa98-3048a262c06a"
   },
   "outputs": [
    {
     "name": "stderr",
     "output_type": "stream",
     "text": [
      "No artists with labels found to put in legend.  Note that artists whose label start with an underscore are ignored when legend() is called with no argument.\n"
     ]
    },
    {
     "data": {
      "image/png": "[encoded data removed]",
      "text/plain": [
       "<Figure size 800x1600 with 1 Axes>"
      ]
     },
     "metadata": {},
     "output_type": "display_data"
    }
   ],
   "source": [
    "feature_imp = pd.Series(search_rus.feature_importances_, index=X.columns).sort_values(ascending=False)\n",
    "feature_imp\n",
    "\n",
    "plt.figure(figsize = (8, 16))\n",
    "# Creating a bar plot\n",
    "sns.barplot(x=feature_imp, y=feature_imp.index)\n",
    "# Add labels to your graph\n",
    "plt.xlabel('Feature Importance Score')\n",
    "plt.ylabel('Features')\n",
    "plt.title(\"Visualizing Important Features\")\n",
    "plt.legend()\n",
    "plt.show()"
   ]
  }
 ],
 "metadata": {
  "colab": {
   "authorship_tag": "ABX9TyN4M4gGy+iujotM0Gw432Tv",
   "provenance": []
  },
  "kernelspec": {
   "display_name": "Python 3 (ipykernel)",
   "language": "python",
   "name": "python3"
  },
  "language_info": {
   "codemirror_mode": {
    "name": "ipython",
    "version": 3
   },
   "file_extension": ".py",
   "mimetype": "text/x-python",
   "name": "python",
   "nbconvert_exporter": "python",
   "pygments_lexer": "ipython3",
   "version": "3.10.11"
  }
 },
 "nbformat": 4,
 "nbformat_minor": 4
}
